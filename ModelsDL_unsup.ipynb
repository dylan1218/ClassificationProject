{
 "metadata": {
  "language_info": {
   "codemirror_mode": {
    "name": "ipython",
    "version": 3
   },
   "file_extension": ".py",
   "mimetype": "text/x-python",
   "name": "python",
   "nbconvert_exporter": "python",
   "pygments_lexer": "ipython3",
   "version": "3.6.12-final"
  },
  "orig_nbformat": 2,
  "kernelspec": {
   "name": "python3",
   "display_name": "Python 3.6.12 64-bit ('MLProjects': conda)",
   "metadata": {
    "interpreter": {
     "hash": "af5bc86975a016524331590028a0a24a0063142bbaf34ba24bfe58e85be676fb"
    }
   }
  }
 },
 "nbformat": 4,
 "nbformat_minor": 2,
 "cells": [
  {
   "cell_type": "code",
   "execution_count": 1,
   "metadata": {},
   "outputs": [
    {
     "output_type": "stream",
     "name": "stdout",
     "text": [
      "c:\\Users\\dylan.levine\\Development\\HCP Classification\\HCP-Classification\n"
     ]
    },
    {
     "output_type": "execute_result",
     "data": {
      "text/plain": [
       "0          231.39\n",
       "1        13445.19\n",
       "2         1919.60\n",
       "3         -513.45\n",
       "4       106963.20\n",
       "          ...    \n",
       "1995         6.20\n",
       "1996     -9253.44\n",
       "1997     -4225.00\n",
       "1998      -189.00\n",
       "1999        85.80\n",
       "Name: DEB_CRE_USD, Length: 2000, dtype: float64"
      ]
     },
     "metadata": {},
     "execution_count": 1
    }
   ],
   "source": [
    "from sklearn.feature_extraction.text import CountVectorizer\n",
    "from FeatureEngine.FeatureMethods import FeatureEngine\n",
    "from sklearn.preprocessing import LabelEncoder\n",
    "from sklearn.datasets import fetch_20newsgroups\n",
    "import pandas as pd\n",
    "from sklearn.model_selection import train_test_split\n",
    "from sklearn.datasets import load_iris\n",
    "import numpy as np\n",
    "from pathlib import Path\n",
    "import seaborn as sns\n",
    "import matplotlib.pyplot as plt\n",
    "#import shap\n",
    "\n",
    "#Overview of unsupervised techniques in financial accounting auditing paper shared below. Within this notebook we've tested an autoencoder and isolation forest. What I have not considered testing is approaches that are defined in the paper as \"grey literature\", which are by definition not peer reviewed and may be experimental in nature. \n",
    "#https://essay.utwente.nl/79813/1/Lenderink_MA_EEMCS.pdf\n",
    "\n",
    "\n",
    "#Note: The FeatureEngine is for TESTING ONLY, we'll need to pickle sklearn objects which means the methods as they are currentlly set-up in function featurizer won't handle pickling.\n",
    "#https://stackoverflow.com/questions/28656736/using-scikits-labelencoder-correctly-across-multiple-programs\n",
    "\n",
    "\n",
    "print(Path.cwd())\n",
    "\n",
    "pathBase = str(Path.cwd())\n",
    "cv = CountVectorizer()\n",
    "\n",
    "\n",
    "#df1 = pd.read_csv(pathBase + \"\\Datasets\\dataset.csv\")\n",
    "\n",
    "df = pd.read_csv(pathBase + \"\\Datasets\\TeraSample.csv\")\n",
    "\n",
    "\n",
    "#categories = ['alt.atheism', 'soc.religion.christian','comp.graphics', 'sci.med']\n",
    "\n",
    "#twenty_train = fetch_20newsgroups(subset='train', categories=categories, shuffle=True, random_state=42)\n",
    "#venv guidance\n",
    "#https://stackoverflow.com/questions/8921188/issue-with-virtualenv-cannot-activate\n",
    "#https://janakiev.com/blog/jupyter-virtual-envs/\n",
    "#https://towardsdatascience.com/the-art-of-effective-visualization-of-multi-dimensional-data-6c7202990c57\n",
    "df['DEB_CRE_USD']"
   ]
  },
  {
   "cell_type": "code",
   "execution_count": 2,
   "metadata": {},
   "outputs": [
    {
     "output_type": "execute_result",
     "data": {
      "text/plain": [
       "          LOGSYS COMP_CODE          COMP_CODE_T  FISCPER FISCVARNT AC_LEDGER  \\\n",
       "1     PEACLNT100      1003  Abbott Laboratories  2019009        K4        0L   \n",
       "2     PEACLNT100      1003  Abbott Laboratories  2020001        K4        0L   \n",
       "5     PEACLNT100      1003  Abbott Laboratories  2020004        K4        0L   \n",
       "6     PEACLNT100      1003  Abbott Laboratories  2019012        K4        0L   \n",
       "7     PEACLNT100      1003  Abbott Laboratories  2019009        K4        0L   \n",
       "...          ...       ...                  ...      ...       ...       ...   \n",
       "1986  PEACLNT100      1003  Abbott Laboratories  2019008        K4        0L   \n",
       "1989  PEACLNT100      1003  Abbott Laboratories  2020001        K4        0L   \n",
       "1993  PEACLNT100      1003  Abbott Laboratories  2019009        K4        0L   \n",
       "1995  PEACLNT100      1003  Abbott Laboratories  2019006        K4        0L   \n",
       "1997  PEACLNT100      1003  Abbott Laboratories  2020006        K4        0L   \n",
       "\n",
       "       AC_DOC_NR  AC_DOC_LN  FISCPER3 PSTNG_DATE  ... COUNTRY BI_TCOUNTRY  \\\n",
       "1     5000182043          1         9 2019-09-30  ...      IE     Ireland   \n",
       "2     5100010932          2         1 2020-01-17  ...      US         USA   \n",
       "5     5000071281         11         4 2020-04-16  ...      US         USA   \n",
       "6     1900086719          2        12 2019-12-30  ...      US         USA   \n",
       "7     5100182522          2         9 2019-09-13  ...      US         USA   \n",
       "...          ...        ...       ...        ...  ...     ...         ...   \n",
       "1986  5000150718          1         8 2019-08-08  ...      US         USA   \n",
       "1989  5100006439          2         1 2020-01-11  ...      US         USA   \n",
       "1993  5100190885          3         9 2019-09-26  ...      US         USA   \n",
       "1995  5100110476         11         6 2019-06-05  ...      US         USA   \n",
       "1997  5000119824          2         6 2020-06-25  ...      US         USA   \n",
       "\n",
       "     VM_HC_BLOCIND BIC_ZCENPURB ACCNT_GRPV         BI_ACCNT_TGRPV  \\\n",
       "1                ?            ?       Z001  Vendor (Legal Entity)   \n",
       "2                ?            ?       Z001  Vendor (Legal Entity)   \n",
       "5                ?            ?       Z001  Vendor (Legal Entity)   \n",
       "6                ?            ?       Z003        Invoicing Party   \n",
       "7                ?            ?       Z001  Vendor (Legal Entity)   \n",
       "...            ...          ...        ...                    ...   \n",
       "1986             ?            ?       Z001  Vendor (Legal Entity)   \n",
       "1989             ?            ?       Z001  Vendor (Legal Entity)   \n",
       "1993             ?            ?       Z003        Invoicing Party   \n",
       "1995             ?            ?       Z001  Vendor (Legal Entity)   \n",
       "1997             ?            ?       Z001  Vendor (Legal Entity)   \n",
       "\n",
       "     VM_DEL_INDIC ZDELBCK BANKCTRY    BANKACCT  \n",
       "1               ?       ?       IE    16392902  \n",
       "2               ?       ?       US   870512506  \n",
       "5               ?       ?       US   906000548  \n",
       "6               ?       ?       US      414128  \n",
       "7               ?       ?       US  7460554053  \n",
       "...           ...     ...      ...         ...  \n",
       "1986            ?       ?       US  3756241851  \n",
       "1989            ?       ?       US   870512506  \n",
       "1993            ?       ?       US  1459103106  \n",
       "1995            ?       ?       US  2426922602  \n",
       "1997            ?       ?       US  5330181399  \n",
       "\n",
       "[1020 rows x 140 columns]"
      ],
      "text/html": "<div>\n<style scoped>\n    .dataframe tbody tr th:only-of-type {\n        vertical-align: middle;\n    }\n\n    .dataframe tbody tr th {\n        vertical-align: top;\n    }\n\n    .dataframe thead th {\n        text-align: right;\n    }\n</style>\n<table border=\"1\" class=\"dataframe\">\n  <thead>\n    <tr style=\"text-align: right;\">\n      <th></th>\n      <th>LOGSYS</th>\n      <th>COMP_CODE</th>\n      <th>COMP_CODE_T</th>\n      <th>FISCPER</th>\n      <th>FISCVARNT</th>\n      <th>AC_LEDGER</th>\n      <th>AC_DOC_NR</th>\n      <th>AC_DOC_LN</th>\n      <th>FISCPER3</th>\n      <th>PSTNG_DATE</th>\n      <th>...</th>\n      <th>COUNTRY</th>\n      <th>BI_TCOUNTRY</th>\n      <th>VM_HC_BLOCIND</th>\n      <th>BIC_ZCENPURB</th>\n      <th>ACCNT_GRPV</th>\n      <th>BI_ACCNT_TGRPV</th>\n      <th>VM_DEL_INDIC</th>\n      <th>ZDELBCK</th>\n      <th>BANKCTRY</th>\n      <th>BANKACCT</th>\n    </tr>\n  </thead>\n  <tbody>\n    <tr>\n      <th>1</th>\n      <td>PEACLNT100</td>\n      <td>1003</td>\n      <td>Abbott Laboratories</td>\n      <td>2019009</td>\n      <td>K4</td>\n      <td>0L</td>\n      <td>5000182043</td>\n      <td>1</td>\n      <td>9</td>\n      <td>2019-09-30</td>\n      <td>...</td>\n      <td>IE</td>\n      <td>Ireland</td>\n      <td>?</td>\n      <td>?</td>\n      <td>Z001</td>\n      <td>Vendor (Legal Entity)</td>\n      <td>?</td>\n      <td>?</td>\n      <td>IE</td>\n      <td>16392902</td>\n    </tr>\n    <tr>\n      <th>2</th>\n      <td>PEACLNT100</td>\n      <td>1003</td>\n      <td>Abbott Laboratories</td>\n      <td>2020001</td>\n      <td>K4</td>\n      <td>0L</td>\n      <td>5100010932</td>\n      <td>2</td>\n      <td>1</td>\n      <td>2020-01-17</td>\n      <td>...</td>\n      <td>US</td>\n      <td>USA</td>\n      <td>?</td>\n      <td>?</td>\n      <td>Z001</td>\n      <td>Vendor (Legal Entity)</td>\n      <td>?</td>\n      <td>?</td>\n      <td>US</td>\n      <td>870512506</td>\n    </tr>\n    <tr>\n      <th>5</th>\n      <td>PEACLNT100</td>\n      <td>1003</td>\n      <td>Abbott Laboratories</td>\n      <td>2020004</td>\n      <td>K4</td>\n      <td>0L</td>\n      <td>5000071281</td>\n      <td>11</td>\n      <td>4</td>\n      <td>2020-04-16</td>\n      <td>...</td>\n      <td>US</td>\n      <td>USA</td>\n      <td>?</td>\n      <td>?</td>\n      <td>Z001</td>\n      <td>Vendor (Legal Entity)</td>\n      <td>?</td>\n      <td>?</td>\n      <td>US</td>\n      <td>906000548</td>\n    </tr>\n    <tr>\n      <th>6</th>\n      <td>PEACLNT100</td>\n      <td>1003</td>\n      <td>Abbott Laboratories</td>\n      <td>2019012</td>\n      <td>K4</td>\n      <td>0L</td>\n      <td>1900086719</td>\n      <td>2</td>\n      <td>12</td>\n      <td>2019-12-30</td>\n      <td>...</td>\n      <td>US</td>\n      <td>USA</td>\n      <td>?</td>\n      <td>?</td>\n      <td>Z003</td>\n      <td>Invoicing Party</td>\n      <td>?</td>\n      <td>?</td>\n      <td>US</td>\n      <td>414128</td>\n    </tr>\n    <tr>\n      <th>7</th>\n      <td>PEACLNT100</td>\n      <td>1003</td>\n      <td>Abbott Laboratories</td>\n      <td>2019009</td>\n      <td>K4</td>\n      <td>0L</td>\n      <td>5100182522</td>\n      <td>2</td>\n      <td>9</td>\n      <td>2019-09-13</td>\n      <td>...</td>\n      <td>US</td>\n      <td>USA</td>\n      <td>?</td>\n      <td>?</td>\n      <td>Z001</td>\n      <td>Vendor (Legal Entity)</td>\n      <td>?</td>\n      <td>?</td>\n      <td>US</td>\n      <td>7460554053</td>\n    </tr>\n    <tr>\n      <th>...</th>\n      <td>...</td>\n      <td>...</td>\n      <td>...</td>\n      <td>...</td>\n      <td>...</td>\n      <td>...</td>\n      <td>...</td>\n      <td>...</td>\n      <td>...</td>\n      <td>...</td>\n      <td>...</td>\n      <td>...</td>\n      <td>...</td>\n      <td>...</td>\n      <td>...</td>\n      <td>...</td>\n      <td>...</td>\n      <td>...</td>\n      <td>...</td>\n      <td>...</td>\n      <td>...</td>\n    </tr>\n    <tr>\n      <th>1986</th>\n      <td>PEACLNT100</td>\n      <td>1003</td>\n      <td>Abbott Laboratories</td>\n      <td>2019008</td>\n      <td>K4</td>\n      <td>0L</td>\n      <td>5000150718</td>\n      <td>1</td>\n      <td>8</td>\n      <td>2019-08-08</td>\n      <td>...</td>\n      <td>US</td>\n      <td>USA</td>\n      <td>?</td>\n      <td>?</td>\n      <td>Z001</td>\n      <td>Vendor (Legal Entity)</td>\n      <td>?</td>\n      <td>?</td>\n      <td>US</td>\n      <td>3756241851</td>\n    </tr>\n    <tr>\n      <th>1989</th>\n      <td>PEACLNT100</td>\n      <td>1003</td>\n      <td>Abbott Laboratories</td>\n      <td>2020001</td>\n      <td>K4</td>\n      <td>0L</td>\n      <td>5100006439</td>\n      <td>2</td>\n      <td>1</td>\n      <td>2020-01-11</td>\n      <td>...</td>\n      <td>US</td>\n      <td>USA</td>\n      <td>?</td>\n      <td>?</td>\n      <td>Z001</td>\n      <td>Vendor (Legal Entity)</td>\n      <td>?</td>\n      <td>?</td>\n      <td>US</td>\n      <td>870512506</td>\n    </tr>\n    <tr>\n      <th>1993</th>\n      <td>PEACLNT100</td>\n      <td>1003</td>\n      <td>Abbott Laboratories</td>\n      <td>2019009</td>\n      <td>K4</td>\n      <td>0L</td>\n      <td>5100190885</td>\n      <td>3</td>\n      <td>9</td>\n      <td>2019-09-26</td>\n      <td>...</td>\n      <td>US</td>\n      <td>USA</td>\n      <td>?</td>\n      <td>?</td>\n      <td>Z003</td>\n      <td>Invoicing Party</td>\n      <td>?</td>\n      <td>?</td>\n      <td>US</td>\n      <td>1459103106</td>\n    </tr>\n    <tr>\n      <th>1995</th>\n      <td>PEACLNT100</td>\n      <td>1003</td>\n      <td>Abbott Laboratories</td>\n      <td>2019006</td>\n      <td>K4</td>\n      <td>0L</td>\n      <td>5100110476</td>\n      <td>11</td>\n      <td>6</td>\n      <td>2019-06-05</td>\n      <td>...</td>\n      <td>US</td>\n      <td>USA</td>\n      <td>?</td>\n      <td>?</td>\n      <td>Z001</td>\n      <td>Vendor (Legal Entity)</td>\n      <td>?</td>\n      <td>?</td>\n      <td>US</td>\n      <td>2426922602</td>\n    </tr>\n    <tr>\n      <th>1997</th>\n      <td>PEACLNT100</td>\n      <td>1003</td>\n      <td>Abbott Laboratories</td>\n      <td>2020006</td>\n      <td>K4</td>\n      <td>0L</td>\n      <td>5000119824</td>\n      <td>2</td>\n      <td>6</td>\n      <td>2020-06-25</td>\n      <td>...</td>\n      <td>US</td>\n      <td>USA</td>\n      <td>?</td>\n      <td>?</td>\n      <td>Z001</td>\n      <td>Vendor (Legal Entity)</td>\n      <td>?</td>\n      <td>?</td>\n      <td>US</td>\n      <td>5330181399</td>\n    </tr>\n  </tbody>\n</table>\n<p>1020 rows × 140 columns</p>\n</div>"
     },
     "metadata": {},
     "execution_count": 2
    }
   ],
   "source": [
    "#Define DateEncode as basic features such as day of week, month int, and year int.\n",
    "#Define groupencode as placing into buckets\n",
    "#Define mapencode as mapping values to a higher-level grouping\n",
    "\n",
    "\n",
    "#Define relavent fields to model and their associated data types and feature engineering methods\n",
    "colDict = {\n",
    "    \"COMP_CODE\": {\"Type\":\"Categorical\", \"Method\":\"1hot\"},\n",
    "    \"REF_KEY1\":{\"Type\":\"Categorical\", \"Method\":\"1hot\"},\n",
    "    \"AC_DOC_NR\": {\"Type\":\"ID\", \"Method\":\"N/A\"},\n",
    "    \"PSTNG_DATE\":{\"Type\":\"Date\", \"Method\":\"DateEncode\"},\n",
    "    \"CREATEDON\":{\"Type\":\"Date\", \"Method\":\"DateEncode\"},\n",
    "    \"DOC_DATE\":{\"Type\":\"Date\", \"Method\":\"DateEncode\"},\n",
    "    \"PROFIT_CTR\":{\"Type\":\"Categorical\", \"Method\":\"1hot\"},\n",
    "    \"AC_DOC_TYP\":{\"Type\":\"Categorical\", \"Method\":\"1hot\"},\n",
    "    \"POST_KEY\":{\"Type\":\"Categorical\", \"Method\":\"1hot\"},\n",
    "    \"CREDITOR\":{\"Type\":\"Categorical\", \"Method\":\"MapEncode\"},\n",
    "    \"NAME\":{\"Type\":\"Text\", \"Method\":\"Tokenize\"},\n",
    "    \"GL_ACCOUNT\":{\"Type\":\"Categorical\", \"Method\":\"1hot\"},\n",
    "    \"CUSTOMER\":{\"Type\":\"Categorical\", \"Method\":\"MapEncode\"},\n",
    "    \"POSTXT\":{\"Type\":\"Text\", \"Method\":\"Tokenize\"},\n",
    "    \"BIC_ZUSERNAM\":{\"Type\":\"Categorical\", \"Method\":\"MapEncode\"},\n",
    "    \"ZBKTXT\":{\"Type\":\"Text\", \"Method\":\"Tokenize\"},\n",
    "    \"ZTCODE\":{\"TYpe\":\"Categorical\", \"Method\":\"1hot\"},\n",
    "    \"DEB_CRE_USD\":{\"Type\":\"Numerical\", \"Method\":\"GroupEncode\"},\n",
    "    \"BIC_ZTERMPAY\":{\"Type\":\"Categorical\", \"Method\":\"1hot\"},\n",
    "    \"MATL_GROUP\":{\"Type\":\"Categorical\", \"Method\":\"1hot\"},\n",
    "    \"ACCNT_GRPV\":{\"Type\":\"Categorical\", \"Method\":\"1hot\"}\n",
    "\n",
    "}\n",
    "\n",
    "\n",
    "\n",
    "#Set pandas datatypes for each field\n",
    "df['COMP_CODE'] = df['COMP_CODE'].astype('object')\n",
    "df['REF_KEY1'] = df['REF_KEY1'].astype('object')\n",
    "df['AC_DOC_NR'] = df['AC_DOC_NR'].astype('object')\n",
    "df['PSTNG_DATE'] = pd.to_datetime(df['PSTNG_DATE'].astype('object'), format=\"%Y%m%d\")\n",
    "df['CREATEDON'] = pd.to_datetime(df['CREATEDON'].astype('object'), format=\"%Y%m%d\")\n",
    "df['DOC_DATE'] = pd.to_datetime(df['DOC_DATE'].astype('object'), format=\"%Y%m%d\")\n",
    "df['PROFIT_CTR'] = df['PROFIT_CTR'].astype('object')\n",
    "df['AC_DOC_TYP'] = df['AC_DOC_TYP'].astype('object')\n",
    "df['POST_KEY'] = df['POST_KEY'].astype('object')\n",
    "df['CREDITOR'] = df['CREDITOR'].astype('object')\n",
    "df['NAME'] = df['NAME'].astype('object')\n",
    "df['GL_ACCOUNT'] = df['GL_ACCOUNT'].astype('object')\n",
    "df['CUSTOMER'] = df['CUSTOMER'].astype('object')\n",
    "df['POSTXT'] = df['POSTXT'].astype('object')\n",
    "df['BIC_ZUSERNAM'] = df['BIC_ZUSERNAM'].astype('object')\n",
    "df['ZBKTXT'] = df['ZBKTXT'].astype('object')\n",
    "df['ZTCODE'] = df['ZTCODE'].astype('object')\n",
    "#df['DEB_CRE_USD'] = df['BIC_ZTERMPAY'].replace(',', '').astype(float)\n",
    "df['DEB_CRE_USD'] = pd.to_numeric(df['DEB_CRE_USD'])\n",
    "df['BIC_ZTERMPAY'] = df['BIC_ZTERMPAY'].astype('object')\n",
    "df['MATL_GROUP'] = df['MATL_GROUP'].astype('object')\n",
    "df['ACCNT_GRPV'] = df['ACCNT_GRPV'].astype('object')\n",
    "\n",
    "\n",
    "\n",
    "#Filter data for relavent rows\n",
    "df = df[ (df.POST_KEY == 40) | (df.POST_KEY == 81) | (df.POST_KEY == 96) & (df.GL_ACCOUNT >= 40000000)]\n",
    "\n",
    "#Get list of relavent fields\n",
    "colSelect = list(colDict.keys())\n",
    "\n",
    "df[colSelect]\n",
    "\n",
    "df"
   ]
  },
  {
   "cell_type": "code",
   "execution_count": 3,
   "metadata": {},
   "outputs": [
    {
     "output_type": "execute_result",
     "data": {
      "text/plain": [
       "      COMP_CODE      REF_KEY1   AC_DOC_NR PSTNG_DATE  CREATEDON   DOC_DATE  \\\n",
       "1          1003  nan_REF_KEY1  5000182043 2019-09-30 2019-09-30 2019-09-30   \n",
       "2          1003        EDIINV  5100010932 2020-01-17 2020-01-17 2020-01-16   \n",
       "5          1003  nan_REF_KEY1  5000071281 2020-04-16 2020-04-16 2020-04-16   \n",
       "6          1003        UPLOAD  1900086719 2019-12-30 2019-12-30 2019-10-03   \n",
       "7          1003        EDIINV  5100182522 2019-09-13 2019-09-13 2019-09-12   \n",
       "...         ...           ...         ...        ...        ...        ...   \n",
       "1986       1003  nan_REF_KEY1  5000150718 2019-08-08 2019-08-08 2019-08-08   \n",
       "1989       1003        EDIINV  5100006439 2020-01-11 2020-01-11 2020-01-09   \n",
       "1993       1003        OCRINV  5100190885 2019-09-26 2019-09-26 2019-09-25   \n",
       "1995       1003        OCRINV  5100110476 2019-06-05 2019-06-05 2019-06-03   \n",
       "1997       1003  nan_REF_KEY1  5000119824 2020-06-25 2020-06-25 2020-06-03   \n",
       "\n",
       "      PROFIT_CTR AC_DOC_TYP  POST_KEY  CREDITOR  ...  \\\n",
       "1          12262         WE        81  10027697  ...   \n",
       "2          12259         RE        81  10003556  ...   \n",
       "5          12071         WE        81  10033062  ...   \n",
       "6          12250         KR        40  30013196  ...   \n",
       "7          12250         RE        81  10030946  ...   \n",
       "...          ...        ...       ...       ...  ...   \n",
       "1986       12071         WE        81  10009414  ...   \n",
       "1989       12082         RE        81  10003556  ...   \n",
       "1993       12250         RE        40  30086991  ...   \n",
       "1995       12071         RE        40  10002390  ...   \n",
       "1997       12250         WE        96  10034350  ...   \n",
       "\n",
       "                              POSTXT  BIC_ZUSERNAM    ZBKTXT  \\\n",
       "1     2L ALINITY BTLE VALIDATION 50%       AUTOSYS       NaN   \n",
       "2                                NaN       AUTOSYS       NaN   \n",
       "5                                NaN       PAWELGS       NaN   \n",
       "6                                NaN    SHARMSX116  2.02E+13   \n",
       "7                                NaN       AUTOSYS       NaN   \n",
       "...                              ...           ...       ...   \n",
       "1986                             NaN      BERGESX6       NaN   \n",
       "1989                             NaN       AUTOSYS       NaN   \n",
       "1993                             NaN  C_ERP_BRAINW       NaN   \n",
       "1995                             NaN  C_ERP_BRAINW       NaN   \n",
       "1997                             NaN      ANDINEX1       NaN   \n",
       "\n",
       "                ZTCODE DEB_CRE_USD BIC_ZTERMPAY      MATL_GROUP  ACCNT_GRPV  \\\n",
       "1                 MB01    13445.19           24  nan_MATL_GROUP        Z001   \n",
       "2                 MR1M     1919.60           23  nan_MATL_GROUP        Z001   \n",
       "5              MIGO_GR      348.00           23       Z1-102126        Z001   \n",
       "6     ZFII_INV_UPD_PGM      187.71           23  nan_MATL_GROUP        Z003   \n",
       "7                 MR1M     1115.28           23  nan_MATL_GROUP        Z001   \n",
       "...                ...         ...          ...             ...         ...   \n",
       "1986           MIGO_GR      980.00           13       Z1-102110        Z001   \n",
       "1989              MR1M      969.36           23  nan_MATL_GROUP        Z001   \n",
       "1993              MIRO      112.00           23  nan_MATL_GROUP        Z003   \n",
       "1995              MIRO        6.20           24  nan_MATL_GROUP        Z001   \n",
       "1997             VL32N    -4225.00           13          999999        Z001   \n",
       "\n",
       "      BIC_ZUSERNAM_BINARY                                         textappend  \n",
       "1                  SYSTEM  MERGON INTERNATIONAL 2L ALINITY BTLE VALIDATIO...  \n",
       "2                  SYSTEM                           EXPERIS US, INC. nan nan  \n",
       "5                    USER                 SERACARE LIFE SCIENCES INC nan nan  \n",
       "6                    USER                   RED WING SHOE STORE nan 2.02E+13  \n",
       "7                  SYSTEM                             HIREGENICS INC nan nan  \n",
       "...                   ...                                                ...  \n",
       "1986                 USER                    MICROGENICS CORPORATION nan nan  \n",
       "1989               SYSTEM                           EXPERIS US, INC. nan nan  \n",
       "1993                 USER              LIFE TECHNOLOGIES CORPORATION nan nan  \n",
       "1995                 USER                MAINE STANDARDS COMPANY LLC nan nan  \n",
       "1997                 USER                         STERIGENICS US LLC nan nan  \n",
       "\n",
       "[1020 rows x 23 columns]"
      ],
      "text/html": "<div>\n<style scoped>\n    .dataframe tbody tr th:only-of-type {\n        vertical-align: middle;\n    }\n\n    .dataframe tbody tr th {\n        vertical-align: top;\n    }\n\n    .dataframe thead th {\n        text-align: right;\n    }\n</style>\n<table border=\"1\" class=\"dataframe\">\n  <thead>\n    <tr style=\"text-align: right;\">\n      <th></th>\n      <th>COMP_CODE</th>\n      <th>REF_KEY1</th>\n      <th>AC_DOC_NR</th>\n      <th>PSTNG_DATE</th>\n      <th>CREATEDON</th>\n      <th>DOC_DATE</th>\n      <th>PROFIT_CTR</th>\n      <th>AC_DOC_TYP</th>\n      <th>POST_KEY</th>\n      <th>CREDITOR</th>\n      <th>...</th>\n      <th>POSTXT</th>\n      <th>BIC_ZUSERNAM</th>\n      <th>ZBKTXT</th>\n      <th>ZTCODE</th>\n      <th>DEB_CRE_USD</th>\n      <th>BIC_ZTERMPAY</th>\n      <th>MATL_GROUP</th>\n      <th>ACCNT_GRPV</th>\n      <th>BIC_ZUSERNAM_BINARY</th>\n      <th>textappend</th>\n    </tr>\n  </thead>\n  <tbody>\n    <tr>\n      <th>1</th>\n      <td>1003</td>\n      <td>nan_REF_KEY1</td>\n      <td>5000182043</td>\n      <td>2019-09-30</td>\n      <td>2019-09-30</td>\n      <td>2019-09-30</td>\n      <td>12262</td>\n      <td>WE</td>\n      <td>81</td>\n      <td>10027697</td>\n      <td>...</td>\n      <td>2L ALINITY BTLE VALIDATION 50%</td>\n      <td>AUTOSYS</td>\n      <td>NaN</td>\n      <td>MB01</td>\n      <td>13445.19</td>\n      <td>24</td>\n      <td>nan_MATL_GROUP</td>\n      <td>Z001</td>\n      <td>SYSTEM</td>\n      <td>MERGON INTERNATIONAL 2L ALINITY BTLE VALIDATIO...</td>\n    </tr>\n    <tr>\n      <th>2</th>\n      <td>1003</td>\n      <td>EDIINV</td>\n      <td>5100010932</td>\n      <td>2020-01-17</td>\n      <td>2020-01-17</td>\n      <td>2020-01-16</td>\n      <td>12259</td>\n      <td>RE</td>\n      <td>81</td>\n      <td>10003556</td>\n      <td>...</td>\n      <td>NaN</td>\n      <td>AUTOSYS</td>\n      <td>NaN</td>\n      <td>MR1M</td>\n      <td>1919.60</td>\n      <td>23</td>\n      <td>nan_MATL_GROUP</td>\n      <td>Z001</td>\n      <td>SYSTEM</td>\n      <td>EXPERIS US, INC. nan nan</td>\n    </tr>\n    <tr>\n      <th>5</th>\n      <td>1003</td>\n      <td>nan_REF_KEY1</td>\n      <td>5000071281</td>\n      <td>2020-04-16</td>\n      <td>2020-04-16</td>\n      <td>2020-04-16</td>\n      <td>12071</td>\n      <td>WE</td>\n      <td>81</td>\n      <td>10033062</td>\n      <td>...</td>\n      <td>NaN</td>\n      <td>PAWELGS</td>\n      <td>NaN</td>\n      <td>MIGO_GR</td>\n      <td>348.00</td>\n      <td>23</td>\n      <td>Z1-102126</td>\n      <td>Z001</td>\n      <td>USER</td>\n      <td>SERACARE LIFE SCIENCES INC nan nan</td>\n    </tr>\n    <tr>\n      <th>6</th>\n      <td>1003</td>\n      <td>UPLOAD</td>\n      <td>1900086719</td>\n      <td>2019-12-30</td>\n      <td>2019-12-30</td>\n      <td>2019-10-03</td>\n      <td>12250</td>\n      <td>KR</td>\n      <td>40</td>\n      <td>30013196</td>\n      <td>...</td>\n      <td>NaN</td>\n      <td>SHARMSX116</td>\n      <td>2.02E+13</td>\n      <td>ZFII_INV_UPD_PGM</td>\n      <td>187.71</td>\n      <td>23</td>\n      <td>nan_MATL_GROUP</td>\n      <td>Z003</td>\n      <td>USER</td>\n      <td>RED WING SHOE STORE nan 2.02E+13</td>\n    </tr>\n    <tr>\n      <th>7</th>\n      <td>1003</td>\n      <td>EDIINV</td>\n      <td>5100182522</td>\n      <td>2019-09-13</td>\n      <td>2019-09-13</td>\n      <td>2019-09-12</td>\n      <td>12250</td>\n      <td>RE</td>\n      <td>81</td>\n      <td>10030946</td>\n      <td>...</td>\n      <td>NaN</td>\n      <td>AUTOSYS</td>\n      <td>NaN</td>\n      <td>MR1M</td>\n      <td>1115.28</td>\n      <td>23</td>\n      <td>nan_MATL_GROUP</td>\n      <td>Z001</td>\n      <td>SYSTEM</td>\n      <td>HIREGENICS INC nan nan</td>\n    </tr>\n    <tr>\n      <th>...</th>\n      <td>...</td>\n      <td>...</td>\n      <td>...</td>\n      <td>...</td>\n      <td>...</td>\n      <td>...</td>\n      <td>...</td>\n      <td>...</td>\n      <td>...</td>\n      <td>...</td>\n      <td>...</td>\n      <td>...</td>\n      <td>...</td>\n      <td>...</td>\n      <td>...</td>\n      <td>...</td>\n      <td>...</td>\n      <td>...</td>\n      <td>...</td>\n      <td>...</td>\n      <td>...</td>\n    </tr>\n    <tr>\n      <th>1986</th>\n      <td>1003</td>\n      <td>nan_REF_KEY1</td>\n      <td>5000150718</td>\n      <td>2019-08-08</td>\n      <td>2019-08-08</td>\n      <td>2019-08-08</td>\n      <td>12071</td>\n      <td>WE</td>\n      <td>81</td>\n      <td>10009414</td>\n      <td>...</td>\n      <td>NaN</td>\n      <td>BERGESX6</td>\n      <td>NaN</td>\n      <td>MIGO_GR</td>\n      <td>980.00</td>\n      <td>13</td>\n      <td>Z1-102110</td>\n      <td>Z001</td>\n      <td>USER</td>\n      <td>MICROGENICS CORPORATION nan nan</td>\n    </tr>\n    <tr>\n      <th>1989</th>\n      <td>1003</td>\n      <td>EDIINV</td>\n      <td>5100006439</td>\n      <td>2020-01-11</td>\n      <td>2020-01-11</td>\n      <td>2020-01-09</td>\n      <td>12082</td>\n      <td>RE</td>\n      <td>81</td>\n      <td>10003556</td>\n      <td>...</td>\n      <td>NaN</td>\n      <td>AUTOSYS</td>\n      <td>NaN</td>\n      <td>MR1M</td>\n      <td>969.36</td>\n      <td>23</td>\n      <td>nan_MATL_GROUP</td>\n      <td>Z001</td>\n      <td>SYSTEM</td>\n      <td>EXPERIS US, INC. nan nan</td>\n    </tr>\n    <tr>\n      <th>1993</th>\n      <td>1003</td>\n      <td>OCRINV</td>\n      <td>5100190885</td>\n      <td>2019-09-26</td>\n      <td>2019-09-26</td>\n      <td>2019-09-25</td>\n      <td>12250</td>\n      <td>RE</td>\n      <td>40</td>\n      <td>30086991</td>\n      <td>...</td>\n      <td>NaN</td>\n      <td>C_ERP_BRAINW</td>\n      <td>NaN</td>\n      <td>MIRO</td>\n      <td>112.00</td>\n      <td>23</td>\n      <td>nan_MATL_GROUP</td>\n      <td>Z003</td>\n      <td>USER</td>\n      <td>LIFE TECHNOLOGIES CORPORATION nan nan</td>\n    </tr>\n    <tr>\n      <th>1995</th>\n      <td>1003</td>\n      <td>OCRINV</td>\n      <td>5100110476</td>\n      <td>2019-06-05</td>\n      <td>2019-06-05</td>\n      <td>2019-06-03</td>\n      <td>12071</td>\n      <td>RE</td>\n      <td>40</td>\n      <td>10002390</td>\n      <td>...</td>\n      <td>NaN</td>\n      <td>C_ERP_BRAINW</td>\n      <td>NaN</td>\n      <td>MIRO</td>\n      <td>6.20</td>\n      <td>24</td>\n      <td>nan_MATL_GROUP</td>\n      <td>Z001</td>\n      <td>USER</td>\n      <td>MAINE STANDARDS COMPANY LLC nan nan</td>\n    </tr>\n    <tr>\n      <th>1997</th>\n      <td>1003</td>\n      <td>nan_REF_KEY1</td>\n      <td>5000119824</td>\n      <td>2020-06-25</td>\n      <td>2020-06-25</td>\n      <td>2020-06-03</td>\n      <td>12250</td>\n      <td>WE</td>\n      <td>96</td>\n      <td>10034350</td>\n      <td>...</td>\n      <td>NaN</td>\n      <td>ANDINEX1</td>\n      <td>NaN</td>\n      <td>VL32N</td>\n      <td>-4225.00</td>\n      <td>13</td>\n      <td>999999</td>\n      <td>Z001</td>\n      <td>USER</td>\n      <td>STERIGENICS US LLC nan nan</td>\n    </tr>\n  </tbody>\n</table>\n<p>1020 rows × 23 columns</p>\n</div>"
     },
     "metadata": {},
     "execution_count": 3
    }
   ],
   "source": [
    "\n",
    "#Clean and transform data\n",
    "\n",
    "#Replaces all ? with numpy nan val\n",
    "df = df[colSelect].replace(\"?\", np.nan)\n",
    "\n",
    "#For encoding purposes replaces nans with a related text identifier\n",
    "df['REF_KEY1'] = df['REF_KEY1'].replace(np.nan, \"nan_REF_KEY1\")\n",
    "df['CUSTOMER'] = df['CUSTOMER'].replace(np.nan, \"nan_CUSTOMER\")\n",
    "df['MATL_GROUP'] = df['MATL_GROUP'].replace(np.nan, \"nan_MATL_GROUP\")\n",
    "df['ACCNT_GRPV'] = df['ACCNT_GRPV'].replace(np.nan,\"nan_ACCNT_GRPV\") \n",
    "\n",
    "#Replaces\n",
    "df.loc[df.BIC_ZUSERNAM != \"AUTOSYS\", 'BIC_ZUSERNAM_BINARY'] = \"USER\"\n",
    "df.loc[df.BIC_ZUSERNAM == \"AUTOSYS\", 'BIC_ZUSERNAM_BINARY'] = \"SYSTEM\"\n",
    "df.loc[df.DOC_DATE == np.nan, 'DOC_DATE'] = df['PSTNG_DATE']\n",
    "#df['DOC_DATE'].loc[df.DOC_DATE != np.nan] gets by filtered\n",
    "\n",
    "\n",
    "df['textappend'] = df['NAME'].astype(str) +\" \"+ df['POSTXT'].astype(str) +\" \"+ df[\"ZBKTXT\"].astype(str)\n",
    "\n",
    "df"
   ]
  },
  {
   "cell_type": "code",
   "execution_count": 4,
   "metadata": {},
   "outputs": [],
   "source": [
    "modelVals2 = FeatureEngine(df)\n",
    "\n",
    "modelVals2.transformDateTime(\"PSTNG_DATE\",\"Days\")\n",
    "\n",
    "modelVals2.df\n",
    "\n",
    "modelVals2.df.to_csv(pathBase + \"\\Datasets\\csvoutput.csv\")"
   ]
  },
  {
   "cell_type": "code",
   "execution_count": 4,
   "metadata": {},
   "outputs": [
    {
     "output_type": "execute_result",
     "data": {
      "text/plain": [
       "(-50000.0, 50000.0)"
      ]
     },
     "metadata": {},
     "execution_count": 4
    },
    {
     "output_type": "display_data",
     "data": {
      "text/plain": "<Figure size 432x288 with 1 Axes>",
      "image/svg+xml": "<?xml version=\"1.0\" encoding=\"utf-8\" standalone=\"no\"?>\r\n<!DOCTYPE svg PUBLIC \"-//W3C//DTD SVG 1.1//EN\"\r\n  \"http://www.w3.org/Graphics/SVG/1.1/DTD/svg11.dtd\">\r\n<!-- Created with matplotlib (https://matplotlib.org/) -->\r\n<svg height=\"251.154852pt\" version=\"1.1\" viewBox=\"0 0 375.2875 251.154852\" width=\"375.2875pt\" xmlns=\"http://www.w3.org/2000/svg\" xmlns:xlink=\"http://www.w3.org/1999/xlink\">\r\n <defs>\r\n  <style type=\"text/css\">\r\n*{stroke-linecap:butt;stroke-linejoin:round;}\r\n  </style>\r\n </defs>\r\n <g id=\"figure_1\">\r\n  <g id=\"patch_1\">\r\n   <path d=\"M 0 251.154852 \r\nL 375.2875 251.154852 \r\nL 375.2875 0 \r\nL 0 0 \r\nz\r\n\" style=\"fill:none;\"/>\r\n  </g>\r\n  <g id=\"axes_1\">\r\n   <g id=\"patch_2\">\r\n    <path d=\"M 33.2875 227.276727 \r\nL 368.0875 227.276727 \r\nL 368.0875 9.836727 \r\nL 33.2875 9.836727 \r\nz\r\n\" style=\"fill:#ffffff;\"/>\r\n   </g>\r\n   <g id=\"patch_3\">\r\n    <path clip-path=\"url(#p7a93410d48)\" d=\"M 172.143155 227.276727 \r\nL 172.143155 226.736033 \r\nL 173.091295 226.736033 \r\nL 173.091295 227.276727 \r\nL 186.365251 227.276727 \r\nL 186.365251 226.736033 \r\nL 188.26153 226.736033 \r\nL 188.26153 227.276727 \r\nL 190.15781 227.276727 \r\nL 190.15781 226.736033 \r\nL 191.10595 226.736033 \r\nL 191.10595 227.276727 \r\nL 192.054089 227.276727 \r\nL 192.054089 226.736033 \r\nL 193.002229 226.736033 \r\nL 193.002229 227.276727 \r\nL 195.846648 227.276727 \r\nL 195.846648 224.573258 \r\nL 196.794788 224.573258 \r\nL 196.794788 226.736033 \r\nL 197.742928 226.736033 \r\nL 197.742928 222.410483 \r\nL 198.691068 222.410483 \r\nL 198.691068 221.869789 \r\nL 199.639207 221.869789 \r\nL 199.639207 217.544239 \r\nL 200.587347 217.544239 \r\nL 200.587347 20.191013 \r\nL 201.535487 20.191013 \r\nL 201.535487 170.503881 \r\nL 202.483626 170.503881 \r\nL 202.483626 194.835101 \r\nL 203.431766 194.835101 \r\nL 203.431766 190.509551 \r\nL 204.379906 190.509551 \r\nL 204.379906 188.887469 \r\nL 206.276185 188.887469 \r\nL 206.276185 203.486201 \r\nL 207.224325 203.486201 \r\nL 207.224325 211.055914 \r\nL 208.172465 211.055914 \r\nL 208.172465 220.247708 \r\nL 209.120605 220.247708 \r\nL 209.120605 217.003545 \r\nL 210.068744 217.003545 \r\nL 210.068744 222.410483 \r\nL 211.016884 222.410483 \r\nL 211.016884 224.573258 \r\nL 211.965024 224.573258 \r\nL 211.965024 222.951177 \r\nL 212.913163 222.951177 \r\nL 212.913163 223.491871 \r\nL 213.861303 223.491871 \r\nL 213.861303 225.113952 \r\nL 214.809443 225.113952 \r\nL 214.809443 222.951177 \r\nL 215.757583 222.951177 \r\nL 215.757583 225.654646 \r\nL 216.705722 225.654646 \r\nL 216.705722 224.573258 \r\nL 217.653862 224.573258 \r\nL 217.653862 226.736033 \r\nL 218.602002 226.736033 \r\nL 218.602002 226.19534 \r\nL 219.550142 226.19534 \r\nL 219.550142 225.654646 \r\nL 220.498281 225.654646 \r\nL 220.498281 226.736033 \r\nL 221.446421 226.736033 \r\nL 221.446421 227.276727 \r\nL 222.394561 227.276727 \r\nL 222.394561 226.736033 \r\nL 223.3427 226.736033 \r\nL 223.3427 227.276727 \r\nL 225.23898 227.276727 \r\nL 225.23898 226.736033 \r\nL 226.18712 226.736033 \r\nL 226.18712 227.276727 \r\nL 227.135259 227.276727 \r\nL 227.135259 226.736033 \r\nL 229.031539 226.736033 \r\nL 229.031539 226.19534 \r\nL 229.979679 226.19534 \r\nL 229.979679 225.113952 \r\nL 230.927818 225.113952 \r\nL 230.927818 227.276727 \r\nL 231.875958 227.276727 \r\nL 231.875958 226.736033 \r\nL 234.720377 226.736033 \r\nL 234.720377 227.276727 \r\nL 235.668517 227.276727 \r\nL 235.668517 226.736033 \r\nL 238.512936 226.736033 \r\nL 238.512936 227.276727 \r\nL 241.357355 227.276727 \r\nL 241.357355 226.736033 \r\nL 242.305495 226.736033 \r\nL 242.305495 227.276727 \r\nL 245.149914 227.276727 \r\nL 245.149914 226.19534 \r\nL 246.098054 226.19534 \r\nL 246.098054 227.276727 \r\nL 247.994333 227.276727 \r\nL 247.994333 226.736033 \r\nL 248.942473 226.736033 \r\nL 248.942473 227.276727 \r\nL 251.786892 227.276727 \r\nL 251.786892 226.736033 \r\nL 252.735032 226.736033 \r\nL 252.735032 227.276727 \r\nL 257.475731 227.276727 \r\nL 257.475731 226.736033 \r\nL 258.42387 226.736033 \r\nL 258.42387 227.276727 \r\nL 262.216429 227.276727 \r\nL 262.216429 226.736033 \r\nL 263.164569 226.736033 \r\nL 263.164569 227.276727 \r\nL 267.905268 227.276727 \r\nL 267.905268 226.736033 \r\nL 268.853407 226.736033 \r\nL 268.853407 227.276727 \r\nL 277.386665 227.276727 \r\nL 277.386665 226.19534 \r\nL 278.334805 226.19534 \r\nL 278.334805 227.276727 \r\nL 283.075503 227.276727 \r\nL 283.075503 226.736033 \r\nL 284.971783 226.736033 \r\nL 284.971783 227.276727 \r\nL 308.675276 227.276727 \r\nL 308.675276 226.736033 \r\nL 309.623416 226.736033 \r\nL 309.623416 227.276727 \r\nL 317.208534 227.276727 \r\nL 317.208534 226.736033 \r\nL 318.156673 226.736033 \r\nL 318.156673 227.276727 \r\nL 320.052953 227.276727 \r\nL 320.052953 226.736033 \r\nL 321.001093 226.736033 \r\nL 321.001093 227.276727 \r\nL 325.741791 227.276727 \r\nL 325.741791 226.736033 \r\nL 326.689931 226.736033 \r\nL 326.689931 227.276727 \r\nL 331.43063 227.276727 \r\nL 331.43063 226.736033 \r\nL 332.378769 226.736033 \r\nL 332.378769 227.276727 \r\nL 341.860167 227.276727 \r\nL 341.860167 226.736033 \r\nL 342.808306 226.736033 \r\nL 342.808306 227.276727 \r\nL 349.445284 227.276727 \r\nL 349.445284 226.736033 \r\nL 350.393424 226.736033 \r\nL 350.393424 227.276727 \r\nL 359.874821 227.276727 \r\nL 359.874821 226.736033 \r\nL 360.822961 226.736033 \r\nL 360.822961 227.276727 \r\nL 369.356219 227.276727 \r\nL 369.356219 226.736033 \r\nL 370.304359 226.736033 \r\nL 370.304359 227.276727 \r\nL 376.2875 227.276727 \r\nL 376.2875 227.276727 \r\n\" style=\"fill:none;stroke:#1f77b4;stroke-linejoin:miter;\"/>\r\n   </g>\r\n   <g id=\"matplotlib.axis_1\">\r\n    <g id=\"xtick_1\">\r\n     <g id=\"line2d_1\">\r\n      <defs>\r\n       <path d=\"M 0 0 \r\nL 0 3.5 \r\n\" id=\"m5aeebd2b58\" style=\"stroke:#000000;stroke-width:0.8;\"/>\r\n      </defs>\r\n      <g>\r\n       <use style=\"stroke:#000000;stroke-width:0.8;\" x=\"66.7675\" xlink:href=\"#m5aeebd2b58\" y=\"227.276727\"/>\r\n      </g>\r\n     </g>\r\n     <g id=\"text_1\">\r\n      <!-- −40000 -->\r\n      <defs>\r\n       <path d=\"M 10.59375 35.5 \r\nL 73.1875 35.5 \r\nL 73.1875 27.203125 \r\nL 10.59375 27.203125 \r\nz\r\n\" id=\"DejaVuSans-8722\"/>\r\n       <path d=\"M 37.796875 64.3125 \r\nL 12.890625 25.390625 \r\nL 37.796875 25.390625 \r\nz\r\nM 35.203125 72.90625 \r\nL 47.609375 72.90625 \r\nL 47.609375 25.390625 \r\nL 58.015625 25.390625 \r\nL 58.015625 17.1875 \r\nL 47.609375 17.1875 \r\nL 47.609375 0 \r\nL 37.796875 0 \r\nL 37.796875 17.1875 \r\nL 4.890625 17.1875 \r\nL 4.890625 26.703125 \r\nz\r\n\" id=\"DejaVuSans-52\"/>\r\n       <path d=\"M 31.78125 66.40625 \r\nQ 24.171875 66.40625 20.328125 58.90625 \r\nQ 16.5 51.421875 16.5 36.375 \r\nQ 16.5 21.390625 20.328125 13.890625 \r\nQ 24.171875 6.390625 31.78125 6.390625 \r\nQ 39.453125 6.390625 43.28125 13.890625 \r\nQ 47.125 21.390625 47.125 36.375 \r\nQ 47.125 51.421875 43.28125 58.90625 \r\nQ 39.453125 66.40625 31.78125 66.40625 \r\nz\r\nM 31.78125 74.21875 \r\nQ 44.046875 74.21875 50.515625 64.515625 \r\nQ 56.984375 54.828125 56.984375 36.375 \r\nQ 56.984375 17.96875 50.515625 8.265625 \r\nQ 44.046875 -1.421875 31.78125 -1.421875 \r\nQ 19.53125 -1.421875 13.0625 8.265625 \r\nQ 6.59375 17.96875 6.59375 36.375 \r\nQ 6.59375 54.828125 13.0625 64.515625 \r\nQ 19.53125 74.21875 31.78125 74.21875 \r\nz\r\n\" id=\"DejaVuSans-48\"/>\r\n      </defs>\r\n      <g transform=\"translate(46.671406 241.875165)scale(0.1 -0.1)\">\r\n       <use xlink:href=\"#DejaVuSans-8722\"/>\r\n       <use x=\"83.789062\" xlink:href=\"#DejaVuSans-52\"/>\r\n       <use x=\"147.412109\" xlink:href=\"#DejaVuSans-48\"/>\r\n       <use x=\"211.035156\" xlink:href=\"#DejaVuSans-48\"/>\r\n       <use x=\"274.658203\" xlink:href=\"#DejaVuSans-48\"/>\r\n       <use x=\"338.28125\" xlink:href=\"#DejaVuSans-48\"/>\r\n      </g>\r\n     </g>\r\n    </g>\r\n    <g id=\"xtick_2\">\r\n     <g id=\"line2d_2\">\r\n      <g>\r\n       <use style=\"stroke:#000000;stroke-width:0.8;\" x=\"133.7275\" xlink:href=\"#m5aeebd2b58\" y=\"227.276727\"/>\r\n      </g>\r\n     </g>\r\n     <g id=\"text_2\">\r\n      <!-- −20000 -->\r\n      <defs>\r\n       <path d=\"M 19.1875 8.296875 \r\nL 53.609375 8.296875 \r\nL 53.609375 0 \r\nL 7.328125 0 \r\nL 7.328125 8.296875 \r\nQ 12.9375 14.109375 22.625 23.890625 \r\nQ 32.328125 33.6875 34.8125 36.53125 \r\nQ 39.546875 41.84375 41.421875 45.53125 \r\nQ 43.3125 49.21875 43.3125 52.78125 \r\nQ 43.3125 58.59375 39.234375 62.25 \r\nQ 35.15625 65.921875 28.609375 65.921875 \r\nQ 23.96875 65.921875 18.8125 64.3125 \r\nQ 13.671875 62.703125 7.8125 59.421875 \r\nL 7.8125 69.390625 \r\nQ 13.765625 71.78125 18.9375 73 \r\nQ 24.125 74.21875 28.421875 74.21875 \r\nQ 39.75 74.21875 46.484375 68.546875 \r\nQ 53.21875 62.890625 53.21875 53.421875 \r\nQ 53.21875 48.921875 51.53125 44.890625 \r\nQ 49.859375 40.875 45.40625 35.40625 \r\nQ 44.1875 33.984375 37.640625 27.21875 \r\nQ 31.109375 20.453125 19.1875 8.296875 \r\nz\r\n\" id=\"DejaVuSans-50\"/>\r\n      </defs>\r\n      <g transform=\"translate(113.631406 241.875165)scale(0.1 -0.1)\">\r\n       <use xlink:href=\"#DejaVuSans-8722\"/>\r\n       <use x=\"83.789062\" xlink:href=\"#DejaVuSans-50\"/>\r\n       <use x=\"147.412109\" xlink:href=\"#DejaVuSans-48\"/>\r\n       <use x=\"211.035156\" xlink:href=\"#DejaVuSans-48\"/>\r\n       <use x=\"274.658203\" xlink:href=\"#DejaVuSans-48\"/>\r\n       <use x=\"338.28125\" xlink:href=\"#DejaVuSans-48\"/>\r\n      </g>\r\n     </g>\r\n    </g>\r\n    <g id=\"xtick_3\">\r\n     <g id=\"line2d_3\">\r\n      <g>\r\n       <use style=\"stroke:#000000;stroke-width:0.8;\" x=\"200.6875\" xlink:href=\"#m5aeebd2b58\" y=\"227.276727\"/>\r\n      </g>\r\n     </g>\r\n     <g id=\"text_3\">\r\n      <!-- 0 -->\r\n      <g transform=\"translate(197.50625 241.875165)scale(0.1 -0.1)\">\r\n       <use xlink:href=\"#DejaVuSans-48\"/>\r\n      </g>\r\n     </g>\r\n    </g>\r\n    <g id=\"xtick_4\">\r\n     <g id=\"line2d_4\">\r\n      <g>\r\n       <use style=\"stroke:#000000;stroke-width:0.8;\" x=\"267.6475\" xlink:href=\"#m5aeebd2b58\" y=\"227.276727\"/>\r\n      </g>\r\n     </g>\r\n     <g id=\"text_4\">\r\n      <!-- 20000 -->\r\n      <g transform=\"translate(251.74125 241.875165)scale(0.1 -0.1)\">\r\n       <use xlink:href=\"#DejaVuSans-50\"/>\r\n       <use x=\"63.623047\" xlink:href=\"#DejaVuSans-48\"/>\r\n       <use x=\"127.246094\" xlink:href=\"#DejaVuSans-48\"/>\r\n       <use x=\"190.869141\" xlink:href=\"#DejaVuSans-48\"/>\r\n       <use x=\"254.492188\" xlink:href=\"#DejaVuSans-48\"/>\r\n      </g>\r\n     </g>\r\n    </g>\r\n    <g id=\"xtick_5\">\r\n     <g id=\"line2d_5\">\r\n      <g>\r\n       <use style=\"stroke:#000000;stroke-width:0.8;\" x=\"334.6075\" xlink:href=\"#m5aeebd2b58\" y=\"227.276727\"/>\r\n      </g>\r\n     </g>\r\n     <g id=\"text_5\">\r\n      <!-- 40000 -->\r\n      <g transform=\"translate(318.70125 241.875165)scale(0.1 -0.1)\">\r\n       <use xlink:href=\"#DejaVuSans-52\"/>\r\n       <use x=\"63.623047\" xlink:href=\"#DejaVuSans-48\"/>\r\n       <use x=\"127.246094\" xlink:href=\"#DejaVuSans-48\"/>\r\n       <use x=\"190.869141\" xlink:href=\"#DejaVuSans-48\"/>\r\n       <use x=\"254.492188\" xlink:href=\"#DejaVuSans-48\"/>\r\n      </g>\r\n     </g>\r\n    </g>\r\n   </g>\r\n   <g id=\"matplotlib.axis_2\">\r\n    <g id=\"ytick_1\">\r\n     <g id=\"line2d_6\">\r\n      <defs>\r\n       <path d=\"M 0 0 \r\nL -3.5 0 \r\n\" id=\"mb5165b079c\" style=\"stroke:#000000;stroke-width:0.8;\"/>\r\n      </defs>\r\n      <g>\r\n       <use style=\"stroke:#000000;stroke-width:0.8;\" x=\"33.2875\" xlink:href=\"#mb5165b079c\" y=\"227.276727\"/>\r\n      </g>\r\n     </g>\r\n     <g id=\"text_6\">\r\n      <!-- 0 -->\r\n      <g transform=\"translate(19.925 231.075946)scale(0.1 -0.1)\">\r\n       <use xlink:href=\"#DejaVuSans-48\"/>\r\n      </g>\r\n     </g>\r\n    </g>\r\n    <g id=\"ytick_2\">\r\n     <g id=\"line2d_7\">\r\n      <g>\r\n       <use style=\"stroke:#000000;stroke-width:0.8;\" x=\"33.2875\" xlink:href=\"#mb5165b079c\" y=\"200.242039\"/>\r\n      </g>\r\n     </g>\r\n     <g id=\"text_7\">\r\n      <!-- 50 -->\r\n      <defs>\r\n       <path d=\"M 10.796875 72.90625 \r\nL 49.515625 72.90625 \r\nL 49.515625 64.59375 \r\nL 19.828125 64.59375 \r\nL 19.828125 46.734375 \r\nQ 21.96875 47.46875 24.109375 47.828125 \r\nQ 26.265625 48.1875 28.421875 48.1875 \r\nQ 40.625 48.1875 47.75 41.5 \r\nQ 54.890625 34.8125 54.890625 23.390625 \r\nQ 54.890625 11.625 47.5625 5.09375 \r\nQ 40.234375 -1.421875 26.90625 -1.421875 \r\nQ 22.3125 -1.421875 17.546875 -0.640625 \r\nQ 12.796875 0.140625 7.71875 1.703125 \r\nL 7.71875 11.625 \r\nQ 12.109375 9.234375 16.796875 8.0625 \r\nQ 21.484375 6.890625 26.703125 6.890625 \r\nQ 35.15625 6.890625 40.078125 11.328125 \r\nQ 45.015625 15.765625 45.015625 23.390625 \r\nQ 45.015625 31 40.078125 35.4375 \r\nQ 35.15625 39.890625 26.703125 39.890625 \r\nQ 22.75 39.890625 18.8125 39.015625 \r\nQ 14.890625 38.140625 10.796875 36.28125 \r\nz\r\n\" id=\"DejaVuSans-53\"/>\r\n      </defs>\r\n      <g transform=\"translate(13.5625 204.041257)scale(0.1 -0.1)\">\r\n       <use xlink:href=\"#DejaVuSans-53\"/>\r\n       <use x=\"63.623047\" xlink:href=\"#DejaVuSans-48\"/>\r\n      </g>\r\n     </g>\r\n    </g>\r\n    <g id=\"ytick_3\">\r\n     <g id=\"line2d_8\">\r\n      <g>\r\n       <use style=\"stroke:#000000;stroke-width:0.8;\" x=\"33.2875\" xlink:href=\"#mb5165b079c\" y=\"173.20735\"/>\r\n      </g>\r\n     </g>\r\n     <g id=\"text_8\">\r\n      <!-- 100 -->\r\n      <defs>\r\n       <path d=\"M 12.40625 8.296875 \r\nL 28.515625 8.296875 \r\nL 28.515625 63.921875 \r\nL 10.984375 60.40625 \r\nL 10.984375 69.390625 \r\nL 28.421875 72.90625 \r\nL 38.28125 72.90625 \r\nL 38.28125 8.296875 \r\nL 54.390625 8.296875 \r\nL 54.390625 0 \r\nL 12.40625 0 \r\nz\r\n\" id=\"DejaVuSans-49\"/>\r\n      </defs>\r\n      <g transform=\"translate(7.2 177.006569)scale(0.1 -0.1)\">\r\n       <use xlink:href=\"#DejaVuSans-49\"/>\r\n       <use x=\"63.623047\" xlink:href=\"#DejaVuSans-48\"/>\r\n       <use x=\"127.246094\" xlink:href=\"#DejaVuSans-48\"/>\r\n      </g>\r\n     </g>\r\n    </g>\r\n    <g id=\"ytick_4\">\r\n     <g id=\"line2d_9\">\r\n      <g>\r\n       <use style=\"stroke:#000000;stroke-width:0.8;\" x=\"33.2875\" xlink:href=\"#mb5165b079c\" y=\"146.172661\"/>\r\n      </g>\r\n     </g>\r\n     <g id=\"text_9\">\r\n      <!-- 150 -->\r\n      <g transform=\"translate(7.2 149.97188)scale(0.1 -0.1)\">\r\n       <use xlink:href=\"#DejaVuSans-49\"/>\r\n       <use x=\"63.623047\" xlink:href=\"#DejaVuSans-53\"/>\r\n       <use x=\"127.246094\" xlink:href=\"#DejaVuSans-48\"/>\r\n      </g>\r\n     </g>\r\n    </g>\r\n    <g id=\"ytick_5\">\r\n     <g id=\"line2d_10\">\r\n      <g>\r\n       <use style=\"stroke:#000000;stroke-width:0.8;\" x=\"33.2875\" xlink:href=\"#mb5165b079c\" y=\"119.137973\"/>\r\n      </g>\r\n     </g>\r\n     <g id=\"text_10\">\r\n      <!-- 200 -->\r\n      <g transform=\"translate(7.2 122.937192)scale(0.1 -0.1)\">\r\n       <use xlink:href=\"#DejaVuSans-50\"/>\r\n       <use x=\"63.623047\" xlink:href=\"#DejaVuSans-48\"/>\r\n       <use x=\"127.246094\" xlink:href=\"#DejaVuSans-48\"/>\r\n      </g>\r\n     </g>\r\n    </g>\r\n    <g id=\"ytick_6\">\r\n     <g id=\"line2d_11\">\r\n      <g>\r\n       <use style=\"stroke:#000000;stroke-width:0.8;\" x=\"33.2875\" xlink:href=\"#mb5165b079c\" y=\"92.103284\"/>\r\n      </g>\r\n     </g>\r\n     <g id=\"text_11\">\r\n      <!-- 250 -->\r\n      <g transform=\"translate(7.2 95.902503)scale(0.1 -0.1)\">\r\n       <use xlink:href=\"#DejaVuSans-50\"/>\r\n       <use x=\"63.623047\" xlink:href=\"#DejaVuSans-53\"/>\r\n       <use x=\"127.246094\" xlink:href=\"#DejaVuSans-48\"/>\r\n      </g>\r\n     </g>\r\n    </g>\r\n    <g id=\"ytick_7\">\r\n     <g id=\"line2d_12\">\r\n      <g>\r\n       <use style=\"stroke:#000000;stroke-width:0.8;\" x=\"33.2875\" xlink:href=\"#mb5165b079c\" y=\"65.068596\"/>\r\n      </g>\r\n     </g>\r\n     <g id=\"text_12\">\r\n      <!-- 300 -->\r\n      <defs>\r\n       <path d=\"M 40.578125 39.3125 \r\nQ 47.65625 37.796875 51.625 33 \r\nQ 55.609375 28.21875 55.609375 21.1875 \r\nQ 55.609375 10.40625 48.1875 4.484375 \r\nQ 40.765625 -1.421875 27.09375 -1.421875 \r\nQ 22.515625 -1.421875 17.65625 -0.515625 \r\nQ 12.796875 0.390625 7.625 2.203125 \r\nL 7.625 11.71875 \r\nQ 11.71875 9.328125 16.59375 8.109375 \r\nQ 21.484375 6.890625 26.8125 6.890625 \r\nQ 36.078125 6.890625 40.9375 10.546875 \r\nQ 45.796875 14.203125 45.796875 21.1875 \r\nQ 45.796875 27.640625 41.28125 31.265625 \r\nQ 36.765625 34.90625 28.71875 34.90625 \r\nL 20.21875 34.90625 \r\nL 20.21875 43.015625 \r\nL 29.109375 43.015625 \r\nQ 36.375 43.015625 40.234375 45.921875 \r\nQ 44.09375 48.828125 44.09375 54.296875 \r\nQ 44.09375 59.90625 40.109375 62.90625 \r\nQ 36.140625 65.921875 28.71875 65.921875 \r\nQ 24.65625 65.921875 20.015625 65.03125 \r\nQ 15.375 64.15625 9.8125 62.3125 \r\nL 9.8125 71.09375 \r\nQ 15.4375 72.65625 20.34375 73.4375 \r\nQ 25.25 74.21875 29.59375 74.21875 \r\nQ 40.828125 74.21875 47.359375 69.109375 \r\nQ 53.90625 64.015625 53.90625 55.328125 \r\nQ 53.90625 49.265625 50.4375 45.09375 \r\nQ 46.96875 40.921875 40.578125 39.3125 \r\nz\r\n\" id=\"DejaVuSans-51\"/>\r\n      </defs>\r\n      <g transform=\"translate(7.2 68.867815)scale(0.1 -0.1)\">\r\n       <use xlink:href=\"#DejaVuSans-51\"/>\r\n       <use x=\"63.623047\" xlink:href=\"#DejaVuSans-48\"/>\r\n       <use x=\"127.246094\" xlink:href=\"#DejaVuSans-48\"/>\r\n      </g>\r\n     </g>\r\n    </g>\r\n    <g id=\"ytick_8\">\r\n     <g id=\"line2d_13\">\r\n      <g>\r\n       <use style=\"stroke:#000000;stroke-width:0.8;\" x=\"33.2875\" xlink:href=\"#mb5165b079c\" y=\"38.033907\"/>\r\n      </g>\r\n     </g>\r\n     <g id=\"text_13\">\r\n      <!-- 350 -->\r\n      <g transform=\"translate(7.2 41.833126)scale(0.1 -0.1)\">\r\n       <use xlink:href=\"#DejaVuSans-51\"/>\r\n       <use x=\"63.623047\" xlink:href=\"#DejaVuSans-53\"/>\r\n       <use x=\"127.246094\" xlink:href=\"#DejaVuSans-48\"/>\r\n      </g>\r\n     </g>\r\n    </g>\r\n    <g id=\"ytick_9\">\r\n     <g id=\"line2d_14\">\r\n      <g>\r\n       <use style=\"stroke:#000000;stroke-width:0.8;\" x=\"33.2875\" xlink:href=\"#mb5165b079c\" y=\"10.999219\"/>\r\n      </g>\r\n     </g>\r\n     <g id=\"text_14\">\r\n      <!-- 400 -->\r\n      <g transform=\"translate(7.2 14.798437)scale(0.1 -0.1)\">\r\n       <use xlink:href=\"#DejaVuSans-52\"/>\r\n       <use x=\"63.623047\" xlink:href=\"#DejaVuSans-48\"/>\r\n       <use x=\"127.246094\" xlink:href=\"#DejaVuSans-48\"/>\r\n      </g>\r\n     </g>\r\n    </g>\r\n   </g>\r\n   <g id=\"patch_4\">\r\n    <path d=\"M 33.2875 227.276727 \r\nL 33.2875 9.836727 \r\n\" style=\"fill:none;stroke:#000000;stroke-linecap:square;stroke-linejoin:miter;stroke-width:0.8;\"/>\r\n   </g>\r\n   <g id=\"patch_5\">\r\n    <path d=\"M 368.0875 227.276727 \r\nL 368.0875 9.836727 \r\n\" style=\"fill:none;stroke:#000000;stroke-linecap:square;stroke-linejoin:miter;stroke-width:0.8;\"/>\r\n   </g>\r\n   <g id=\"patch_6\">\r\n    <path d=\"M 33.2875 227.276727 \r\nL 368.0875 227.276727 \r\n\" style=\"fill:none;stroke:#000000;stroke-linecap:square;stroke-linejoin:miter;stroke-width:0.8;\"/>\r\n   </g>\r\n   <g id=\"patch_7\">\r\n    <path d=\"M 33.2875 9.836727 \r\nL 368.0875 9.836727 \r\n\" style=\"fill:none;stroke:#000000;stroke-linecap:square;stroke-linejoin:miter;stroke-width:0.8;\"/>\r\n   </g>\r\n  </g>\r\n </g>\r\n <defs>\r\n  <clipPath id=\"p7a93410d48\">\r\n   <rect height=\"217.44\" width=\"334.8\" x=\"33.2875\" y=\"9.836727\"/>\r\n  </clipPath>\r\n </defs>\r\n</svg>\r\n",
      "image/png": "[encoded data removed]"
     },
     "metadata": {
      "needs_background": "light"
     }
    }
   ],
   "source": [
    "\n",
    "\n",
    "plt.hist(df['DEB_CRE_USD'],bins='auto', histtype='step')\n",
    "plt.xlim(-50000,50000)"
   ]
  },
  {
   "cell_type": "code",
   "execution_count": 5,
   "metadata": {},
   "outputs": [
    {
     "output_type": "execute_result",
     "data": {
      "text/plain": [
       "<matplotlib.axes._subplots.AxesSubplot at 0x2a5381d4dc0>"
      ]
     },
     "metadata": {},
     "execution_count": 5
    },
    {
     "output_type": "display_data",
     "data": {
      "text/plain": "<Figure size 432x288 with 1 Axes>",
      "image/svg+xml": "<?xml version=\"1.0\" encoding=\"utf-8\" standalone=\"no\"?>\r\n<!DOCTYPE svg PUBLIC \"-//W3C//DTD SVG 1.1//EN\"\r\n  \"http://www.w3.org/Graphics/SVG/1.1/DTD/svg11.dtd\">\r\n<!-- Created with matplotlib (https://matplotlib.org/) -->\r\n<svg height=\"259.218125pt\" version=\"1.1\" viewBox=\"0 0 362.5625 259.218125\" width=\"362.5625pt\" xmlns=\"http://www.w3.org/2000/svg\" xmlns:xlink=\"http://www.w3.org/1999/xlink\">\r\n <defs>\r\n  <style type=\"text/css\">\r\n*{stroke-linecap:butt;stroke-linejoin:round;}\r\n  </style>\r\n </defs>\r\n <g id=\"figure_1\">\r\n  <g id=\"patch_1\">\r\n   <path d=\"M 0 259.218125 \r\nL 362.5625 259.218125 \r\nL 362.5625 0 \r\nL 0 0 \r\nz\r\n\" style=\"fill:none;\"/>\r\n  </g>\r\n  <g id=\"axes_1\">\r\n   <g id=\"patch_2\">\r\n    <path d=\"M 20.5625 235.238437 \r\nL 355.3625 235.238437 \r\nL 355.3625 17.798437 \r\nL 20.5625 17.798437 \r\nz\r\n\" style=\"fill:#ffffff;\"/>\r\n   </g>\r\n   <g id=\"matplotlib.axis_1\">\r\n    <g id=\"xtick_1\">\r\n     <g id=\"line2d_1\">\r\n      <path clip-path=\"url(#pe8ab03ca56)\" d=\"M 187.9625 235.238437 \r\nL 187.9625 17.798437 \r\n\" style=\"fill:none;stroke:#b0b0b0;stroke-linecap:square;stroke-width:0.8;\"/>\r\n     </g>\r\n     <g id=\"line2d_2\">\r\n      <defs>\r\n       <path d=\"M 0 0 \r\nL 0 3.5 \r\n\" id=\"m184a93b969\" style=\"stroke:#000000;stroke-width:0.8;\"/>\r\n      </defs>\r\n      <g>\r\n       <use style=\"stroke:#000000;stroke-width:0.8;\" x=\"187.9625\" xlink:href=\"#m184a93b969\" y=\"235.238437\"/>\r\n      </g>\r\n     </g>\r\n     <g id=\"text_1\">\r\n      <!-- DEB_CRE_USD -->\r\n      <defs>\r\n       <path d=\"M 19.671875 64.796875 \r\nL 19.671875 8.109375 \r\nL 31.59375 8.109375 \r\nQ 46.6875 8.109375 53.6875 14.9375 \r\nQ 60.6875 21.78125 60.6875 36.53125 \r\nQ 60.6875 51.171875 53.6875 57.984375 \r\nQ 46.6875 64.796875 31.59375 64.796875 \r\nz\r\nM 9.8125 72.90625 \r\nL 30.078125 72.90625 \r\nQ 51.265625 72.90625 61.171875 64.09375 \r\nQ 71.09375 55.28125 71.09375 36.53125 \r\nQ 71.09375 17.671875 61.125 8.828125 \r\nQ 51.171875 0 30.078125 0 \r\nL 9.8125 0 \r\nz\r\n\" id=\"DejaVuSans-68\"/>\r\n       <path d=\"M 9.8125 72.90625 \r\nL 55.90625 72.90625 \r\nL 55.90625 64.59375 \r\nL 19.671875 64.59375 \r\nL 19.671875 43.015625 \r\nL 54.390625 43.015625 \r\nL 54.390625 34.71875 \r\nL 19.671875 34.71875 \r\nL 19.671875 8.296875 \r\nL 56.78125 8.296875 \r\nL 56.78125 0 \r\nL 9.8125 0 \r\nz\r\n\" id=\"DejaVuSans-69\"/>\r\n       <path d=\"M 19.671875 34.8125 \r\nL 19.671875 8.109375 \r\nL 35.5 8.109375 \r\nQ 43.453125 8.109375 47.28125 11.40625 \r\nQ 51.125 14.703125 51.125 21.484375 \r\nQ 51.125 28.328125 47.28125 31.5625 \r\nQ 43.453125 34.8125 35.5 34.8125 \r\nz\r\nM 19.671875 64.796875 \r\nL 19.671875 42.828125 \r\nL 34.28125 42.828125 \r\nQ 41.5 42.828125 45.03125 45.53125 \r\nQ 48.578125 48.25 48.578125 53.8125 \r\nQ 48.578125 59.328125 45.03125 62.0625 \r\nQ 41.5 64.796875 34.28125 64.796875 \r\nz\r\nM 9.8125 72.90625 \r\nL 35.015625 72.90625 \r\nQ 46.296875 72.90625 52.390625 68.21875 \r\nQ 58.5 63.53125 58.5 54.890625 \r\nQ 58.5 48.1875 55.375 44.234375 \r\nQ 52.25 40.28125 46.1875 39.3125 \r\nQ 53.46875 37.75 57.5 32.78125 \r\nQ 61.53125 27.828125 61.53125 20.40625 \r\nQ 61.53125 10.640625 54.890625 5.3125 \r\nQ 48.25 0 35.984375 0 \r\nL 9.8125 0 \r\nz\r\n\" id=\"DejaVuSans-66\"/>\r\n       <path d=\"M 50.984375 -16.609375 \r\nL 50.984375 -23.578125 \r\nL -0.984375 -23.578125 \r\nL -0.984375 -16.609375 \r\nz\r\n\" id=\"DejaVuSans-95\"/>\r\n       <path d=\"M 64.40625 67.28125 \r\nL 64.40625 56.890625 \r\nQ 59.421875 61.53125 53.78125 63.8125 \r\nQ 48.140625 66.109375 41.796875 66.109375 \r\nQ 29.296875 66.109375 22.65625 58.46875 \r\nQ 16.015625 50.828125 16.015625 36.375 \r\nQ 16.015625 21.96875 22.65625 14.328125 \r\nQ 29.296875 6.6875 41.796875 6.6875 \r\nQ 48.140625 6.6875 53.78125 8.984375 \r\nQ 59.421875 11.28125 64.40625 15.921875 \r\nL 64.40625 5.609375 \r\nQ 59.234375 2.09375 53.4375 0.328125 \r\nQ 47.65625 -1.421875 41.21875 -1.421875 \r\nQ 24.65625 -1.421875 15.125 8.703125 \r\nQ 5.609375 18.84375 5.609375 36.375 \r\nQ 5.609375 53.953125 15.125 64.078125 \r\nQ 24.65625 74.21875 41.21875 74.21875 \r\nQ 47.75 74.21875 53.53125 72.484375 \r\nQ 59.328125 70.75 64.40625 67.28125 \r\nz\r\n\" id=\"DejaVuSans-67\"/>\r\n       <path d=\"M 44.390625 34.1875 \r\nQ 47.5625 33.109375 50.5625 29.59375 \r\nQ 53.5625 26.078125 56.59375 19.921875 \r\nL 66.609375 0 \r\nL 56 0 \r\nL 46.6875 18.703125 \r\nQ 43.0625 26.03125 39.671875 28.421875 \r\nQ 36.28125 30.8125 30.421875 30.8125 \r\nL 19.671875 30.8125 \r\nL 19.671875 0 \r\nL 9.8125 0 \r\nL 9.8125 72.90625 \r\nL 32.078125 72.90625 \r\nQ 44.578125 72.90625 50.734375 67.671875 \r\nQ 56.890625 62.453125 56.890625 51.90625 \r\nQ 56.890625 45.015625 53.6875 40.46875 \r\nQ 50.484375 35.9375 44.390625 34.1875 \r\nz\r\nM 19.671875 64.796875 \r\nL 19.671875 38.921875 \r\nL 32.078125 38.921875 \r\nQ 39.203125 38.921875 42.84375 42.21875 \r\nQ 46.484375 45.515625 46.484375 51.90625 \r\nQ 46.484375 58.296875 42.84375 61.546875 \r\nQ 39.203125 64.796875 32.078125 64.796875 \r\nz\r\n\" id=\"DejaVuSans-82\"/>\r\n       <path d=\"M 8.6875 72.90625 \r\nL 18.609375 72.90625 \r\nL 18.609375 28.609375 \r\nQ 18.609375 16.890625 22.84375 11.734375 \r\nQ 27.09375 6.59375 36.625 6.59375 \r\nQ 46.09375 6.59375 50.34375 11.734375 \r\nQ 54.59375 16.890625 54.59375 28.609375 \r\nL 54.59375 72.90625 \r\nL 64.5 72.90625 \r\nL 64.5 27.390625 \r\nQ 64.5 13.140625 57.4375 5.859375 \r\nQ 50.390625 -1.421875 36.625 -1.421875 \r\nQ 22.796875 -1.421875 15.734375 5.859375 \r\nQ 8.6875 13.140625 8.6875 27.390625 \r\nz\r\n\" id=\"DejaVuSans-85\"/>\r\n       <path d=\"M 53.515625 70.515625 \r\nL 53.515625 60.890625 \r\nQ 47.90625 63.578125 42.921875 64.890625 \r\nQ 37.9375 66.21875 33.296875 66.21875 \r\nQ 25.25 66.21875 20.875 63.09375 \r\nQ 16.5 59.96875 16.5 54.203125 \r\nQ 16.5 49.359375 19.40625 46.890625 \r\nQ 22.3125 44.4375 30.421875 42.921875 \r\nL 36.375 41.703125 \r\nQ 47.40625 39.59375 52.65625 34.296875 \r\nQ 57.90625 29 57.90625 20.125 \r\nQ 57.90625 9.515625 50.796875 4.046875 \r\nQ 43.703125 -1.421875 29.984375 -1.421875 \r\nQ 24.8125 -1.421875 18.96875 -0.25 \r\nQ 13.140625 0.921875 6.890625 3.21875 \r\nL 6.890625 13.375 \r\nQ 12.890625 10.015625 18.65625 8.296875 \r\nQ 24.421875 6.59375 29.984375 6.59375 \r\nQ 38.421875 6.59375 43.015625 9.90625 \r\nQ 47.609375 13.234375 47.609375 19.390625 \r\nQ 47.609375 24.75 44.3125 27.78125 \r\nQ 41.015625 30.8125 33.5 32.328125 \r\nL 27.484375 33.5 \r\nQ 16.453125 35.6875 11.515625 40.375 \r\nQ 6.59375 45.0625 6.59375 53.421875 \r\nQ 6.59375 63.09375 13.40625 68.65625 \r\nQ 20.21875 74.21875 32.171875 74.21875 \r\nQ 37.3125 74.21875 42.625 73.28125 \r\nQ 47.953125 72.359375 53.515625 70.515625 \r\nz\r\n\" id=\"DejaVuSans-83\"/>\r\n      </defs>\r\n      <g transform=\"translate(151.714063 249.660312)scale(0.1 -0.1)\">\r\n       <use xlink:href=\"#DejaVuSans-68\"/>\r\n       <use x=\"77.001953\" xlink:href=\"#DejaVuSans-69\"/>\r\n       <use x=\"140.185547\" xlink:href=\"#DejaVuSans-66\"/>\r\n       <use x=\"208.789062\" xlink:href=\"#DejaVuSans-95\"/>\r\n       <use x=\"258.789062\" xlink:href=\"#DejaVuSans-67\"/>\r\n       <use x=\"328.613281\" xlink:href=\"#DejaVuSans-82\"/>\r\n       <use x=\"398.095703\" xlink:href=\"#DejaVuSans-69\"/>\r\n       <use x=\"461.279297\" xlink:href=\"#DejaVuSans-95\"/>\r\n       <use x=\"511.279297\" xlink:href=\"#DejaVuSans-85\"/>\r\n       <use x=\"584.472656\" xlink:href=\"#DejaVuSans-83\"/>\r\n       <use x=\"647.949219\" xlink:href=\"#DejaVuSans-68\"/>\r\n      </g>\r\n     </g>\r\n    </g>\r\n   </g>\r\n   <g id=\"matplotlib.axis_2\">\r\n    <g id=\"ytick_1\">\r\n     <g id=\"line2d_3\">\r\n      <path clip-path=\"url(#pe8ab03ca56)\" d=\"M 20.5625 225.000255 \r\nL 355.3625 225.000255 \r\n\" style=\"fill:none;stroke:#b0b0b0;stroke-linecap:square;stroke-width:0.8;\"/>\r\n     </g>\r\n     <g id=\"line2d_4\">\r\n      <defs>\r\n       <path d=\"M 0 0 \r\nL -3.5 0 \r\n\" id=\"m1a8266b12b\" style=\"stroke:#000000;stroke-width:0.8;\"/>\r\n      </defs>\r\n      <g>\r\n       <use style=\"stroke:#000000;stroke-width:0.8;\" x=\"20.5625\" xlink:href=\"#m1a8266b12b\" y=\"225.000255\"/>\r\n      </g>\r\n     </g>\r\n     <g id=\"text_2\">\r\n      <!-- 0 -->\r\n      <defs>\r\n       <path d=\"M 31.78125 66.40625 \r\nQ 24.171875 66.40625 20.328125 58.90625 \r\nQ 16.5 51.421875 16.5 36.375 \r\nQ 16.5 21.390625 20.328125 13.890625 \r\nQ 24.171875 6.390625 31.78125 6.390625 \r\nQ 39.453125 6.390625 43.28125 13.890625 \r\nQ 47.125 21.390625 47.125 36.375 \r\nQ 47.125 51.421875 43.28125 58.90625 \r\nQ 39.453125 66.40625 31.78125 66.40625 \r\nz\r\nM 31.78125 74.21875 \r\nQ 44.046875 74.21875 50.515625 64.515625 \r\nQ 56.984375 54.828125 56.984375 36.375 \r\nQ 56.984375 17.96875 50.515625 8.265625 \r\nQ 44.046875 -1.421875 31.78125 -1.421875 \r\nQ 19.53125 -1.421875 13.0625 8.265625 \r\nQ 6.59375 17.96875 6.59375 36.375 \r\nQ 6.59375 54.828125 13.0625 64.515625 \r\nQ 19.53125 74.21875 31.78125 74.21875 \r\nz\r\n\" id=\"DejaVuSans-48\"/>\r\n      </defs>\r\n      <g transform=\"translate(7.2 228.799473)scale(0.1 -0.1)\">\r\n       <use xlink:href=\"#DejaVuSans-48\"/>\r\n      </g>\r\n     </g>\r\n    </g>\r\n    <g id=\"ytick_2\">\r\n     <g id=\"line2d_5\">\r\n      <path clip-path=\"url(#pe8ab03ca56)\" d=\"M 20.5625 183.415082 \r\nL 355.3625 183.415082 \r\n\" style=\"fill:none;stroke:#b0b0b0;stroke-linecap:square;stroke-width:0.8;\"/>\r\n     </g>\r\n     <g id=\"line2d_6\">\r\n      <g>\r\n       <use style=\"stroke:#000000;stroke-width:0.8;\" x=\"20.5625\" xlink:href=\"#m1a8266b12b\" y=\"183.415082\"/>\r\n      </g>\r\n     </g>\r\n     <g id=\"text_3\">\r\n      <!-- 1 -->\r\n      <defs>\r\n       <path d=\"M 12.40625 8.296875 \r\nL 28.515625 8.296875 \r\nL 28.515625 63.921875 \r\nL 10.984375 60.40625 \r\nL 10.984375 69.390625 \r\nL 28.421875 72.90625 \r\nL 38.28125 72.90625 \r\nL 38.28125 8.296875 \r\nL 54.390625 8.296875 \r\nL 54.390625 0 \r\nL 12.40625 0 \r\nz\r\n\" id=\"DejaVuSans-49\"/>\r\n      </defs>\r\n      <g transform=\"translate(7.2 187.2143)scale(0.1 -0.1)\">\r\n       <use xlink:href=\"#DejaVuSans-49\"/>\r\n      </g>\r\n     </g>\r\n    </g>\r\n    <g id=\"ytick_3\">\r\n     <g id=\"line2d_7\">\r\n      <path clip-path=\"url(#pe8ab03ca56)\" d=\"M 20.5625 141.829909 \r\nL 355.3625 141.829909 \r\n\" style=\"fill:none;stroke:#b0b0b0;stroke-linecap:square;stroke-width:0.8;\"/>\r\n     </g>\r\n     <g id=\"line2d_8\">\r\n      <g>\r\n       <use style=\"stroke:#000000;stroke-width:0.8;\" x=\"20.5625\" xlink:href=\"#m1a8266b12b\" y=\"141.829909\"/>\r\n      </g>\r\n     </g>\r\n     <g id=\"text_4\">\r\n      <!-- 2 -->\r\n      <defs>\r\n       <path d=\"M 19.1875 8.296875 \r\nL 53.609375 8.296875 \r\nL 53.609375 0 \r\nL 7.328125 0 \r\nL 7.328125 8.296875 \r\nQ 12.9375 14.109375 22.625 23.890625 \r\nQ 32.328125 33.6875 34.8125 36.53125 \r\nQ 39.546875 41.84375 41.421875 45.53125 \r\nQ 43.3125 49.21875 43.3125 52.78125 \r\nQ 43.3125 58.59375 39.234375 62.25 \r\nQ 35.15625 65.921875 28.609375 65.921875 \r\nQ 23.96875 65.921875 18.8125 64.3125 \r\nQ 13.671875 62.703125 7.8125 59.421875 \r\nL 7.8125 69.390625 \r\nQ 13.765625 71.78125 18.9375 73 \r\nQ 24.125 74.21875 28.421875 74.21875 \r\nQ 39.75 74.21875 46.484375 68.546875 \r\nQ 53.21875 62.890625 53.21875 53.421875 \r\nQ 53.21875 48.921875 51.53125 44.890625 \r\nQ 49.859375 40.875 45.40625 35.40625 \r\nQ 44.1875 33.984375 37.640625 27.21875 \r\nQ 31.109375 20.453125 19.1875 8.296875 \r\nz\r\n\" id=\"DejaVuSans-50\"/>\r\n      </defs>\r\n      <g transform=\"translate(7.2 145.629127)scale(0.1 -0.1)\">\r\n       <use xlink:href=\"#DejaVuSans-50\"/>\r\n      </g>\r\n     </g>\r\n    </g>\r\n    <g id=\"ytick_4\">\r\n     <g id=\"line2d_9\">\r\n      <path clip-path=\"url(#pe8ab03ca56)\" d=\"M 20.5625 100.244736 \r\nL 355.3625 100.244736 \r\n\" style=\"fill:none;stroke:#b0b0b0;stroke-linecap:square;stroke-width:0.8;\"/>\r\n     </g>\r\n     <g id=\"line2d_10\">\r\n      <g>\r\n       <use style=\"stroke:#000000;stroke-width:0.8;\" x=\"20.5625\" xlink:href=\"#m1a8266b12b\" y=\"100.244736\"/>\r\n      </g>\r\n     </g>\r\n     <g id=\"text_5\">\r\n      <!-- 3 -->\r\n      <defs>\r\n       <path d=\"M 40.578125 39.3125 \r\nQ 47.65625 37.796875 51.625 33 \r\nQ 55.609375 28.21875 55.609375 21.1875 \r\nQ 55.609375 10.40625 48.1875 4.484375 \r\nQ 40.765625 -1.421875 27.09375 -1.421875 \r\nQ 22.515625 -1.421875 17.65625 -0.515625 \r\nQ 12.796875 0.390625 7.625 2.203125 \r\nL 7.625 11.71875 \r\nQ 11.71875 9.328125 16.59375 8.109375 \r\nQ 21.484375 6.890625 26.8125 6.890625 \r\nQ 36.078125 6.890625 40.9375 10.546875 \r\nQ 45.796875 14.203125 45.796875 21.1875 \r\nQ 45.796875 27.640625 41.28125 31.265625 \r\nQ 36.765625 34.90625 28.71875 34.90625 \r\nL 20.21875 34.90625 \r\nL 20.21875 43.015625 \r\nL 29.109375 43.015625 \r\nQ 36.375 43.015625 40.234375 45.921875 \r\nQ 44.09375 48.828125 44.09375 54.296875 \r\nQ 44.09375 59.90625 40.109375 62.90625 \r\nQ 36.140625 65.921875 28.71875 65.921875 \r\nQ 24.65625 65.921875 20.015625 65.03125 \r\nQ 15.375 64.15625 9.8125 62.3125 \r\nL 9.8125 71.09375 \r\nQ 15.4375 72.65625 20.34375 73.4375 \r\nQ 25.25 74.21875 29.59375 74.21875 \r\nQ 40.828125 74.21875 47.359375 69.109375 \r\nQ 53.90625 64.015625 53.90625 55.328125 \r\nQ 53.90625 49.265625 50.4375 45.09375 \r\nQ 46.96875 40.921875 40.578125 39.3125 \r\nz\r\n\" id=\"DejaVuSans-51\"/>\r\n      </defs>\r\n      <g transform=\"translate(7.2 104.043954)scale(0.1 -0.1)\">\r\n       <use xlink:href=\"#DejaVuSans-51\"/>\r\n      </g>\r\n     </g>\r\n    </g>\r\n    <g id=\"ytick_5\">\r\n     <g id=\"line2d_11\">\r\n      <path clip-path=\"url(#pe8ab03ca56)\" d=\"M 20.5625 58.659562 \r\nL 355.3625 58.659562 \r\n\" style=\"fill:none;stroke:#b0b0b0;stroke-linecap:square;stroke-width:0.8;\"/>\r\n     </g>\r\n     <g id=\"line2d_12\">\r\n      <g>\r\n       <use style=\"stroke:#000000;stroke-width:0.8;\" x=\"20.5625\" xlink:href=\"#m1a8266b12b\" y=\"58.659562\"/>\r\n      </g>\r\n     </g>\r\n     <g id=\"text_6\">\r\n      <!-- 4 -->\r\n      <defs>\r\n       <path d=\"M 37.796875 64.3125 \r\nL 12.890625 25.390625 \r\nL 37.796875 25.390625 \r\nz\r\nM 35.203125 72.90625 \r\nL 47.609375 72.90625 \r\nL 47.609375 25.390625 \r\nL 58.015625 25.390625 \r\nL 58.015625 17.1875 \r\nL 47.609375 17.1875 \r\nL 47.609375 0 \r\nL 37.796875 0 \r\nL 37.796875 17.1875 \r\nL 4.890625 17.1875 \r\nL 4.890625 26.703125 \r\nz\r\n\" id=\"DejaVuSans-52\"/>\r\n      </defs>\r\n      <g transform=\"translate(7.2 62.458781)scale(0.1 -0.1)\">\r\n       <use xlink:href=\"#DejaVuSans-52\"/>\r\n      </g>\r\n     </g>\r\n    </g>\r\n    <g id=\"text_7\">\r\n     <!-- 1e6 -->\r\n     <defs>\r\n      <path d=\"M 56.203125 29.59375 \r\nL 56.203125 25.203125 \r\nL 14.890625 25.203125 \r\nQ 15.484375 15.921875 20.484375 11.0625 \r\nQ 25.484375 6.203125 34.421875 6.203125 \r\nQ 39.59375 6.203125 44.453125 7.46875 \r\nQ 49.3125 8.734375 54.109375 11.28125 \r\nL 54.109375 2.78125 \r\nQ 49.265625 0.734375 44.1875 -0.34375 \r\nQ 39.109375 -1.421875 33.890625 -1.421875 \r\nQ 20.796875 -1.421875 13.15625 6.1875 \r\nQ 5.515625 13.8125 5.515625 26.8125 \r\nQ 5.515625 40.234375 12.765625 48.109375 \r\nQ 20.015625 56 32.328125 56 \r\nQ 43.359375 56 49.78125 48.890625 \r\nQ 56.203125 41.796875 56.203125 29.59375 \r\nz\r\nM 47.21875 32.234375 \r\nQ 47.125 39.59375 43.09375 43.984375 \r\nQ 39.0625 48.390625 32.421875 48.390625 \r\nQ 24.90625 48.390625 20.390625 44.140625 \r\nQ 15.875 39.890625 15.1875 32.171875 \r\nz\r\n\" id=\"DejaVuSans-101\"/>\r\n      <path d=\"M 33.015625 40.375 \r\nQ 26.375 40.375 22.484375 35.828125 \r\nQ 18.609375 31.296875 18.609375 23.390625 \r\nQ 18.609375 15.53125 22.484375 10.953125 \r\nQ 26.375 6.390625 33.015625 6.390625 \r\nQ 39.65625 6.390625 43.53125 10.953125 \r\nQ 47.40625 15.53125 47.40625 23.390625 \r\nQ 47.40625 31.296875 43.53125 35.828125 \r\nQ 39.65625 40.375 33.015625 40.375 \r\nz\r\nM 52.59375 71.296875 \r\nL 52.59375 62.3125 \r\nQ 48.875 64.0625 45.09375 64.984375 \r\nQ 41.3125 65.921875 37.59375 65.921875 \r\nQ 27.828125 65.921875 22.671875 59.328125 \r\nQ 17.53125 52.734375 16.796875 39.40625 \r\nQ 19.671875 43.65625 24.015625 45.921875 \r\nQ 28.375 48.1875 33.59375 48.1875 \r\nQ 44.578125 48.1875 50.953125 41.515625 \r\nQ 57.328125 34.859375 57.328125 23.390625 \r\nQ 57.328125 12.15625 50.6875 5.359375 \r\nQ 44.046875 -1.421875 33.015625 -1.421875 \r\nQ 20.359375 -1.421875 13.671875 8.265625 \r\nQ 6.984375 17.96875 6.984375 36.375 \r\nQ 6.984375 53.65625 15.1875 63.9375 \r\nQ 23.390625 74.21875 37.203125 74.21875 \r\nQ 40.921875 74.21875 44.703125 73.484375 \r\nQ 48.484375 72.75 52.59375 71.296875 \r\nz\r\n\" id=\"DejaVuSans-54\"/>\r\n     </defs>\r\n     <g transform=\"translate(20.5625 14.798437)scale(0.1 -0.1)\">\r\n      <use xlink:href=\"#DejaVuSans-49\"/>\r\n      <use x=\"63.623047\" xlink:href=\"#DejaVuSans-101\"/>\r\n      <use x=\"125.146484\" xlink:href=\"#DejaVuSans-54\"/>\r\n     </g>\r\n    </g>\r\n   </g>\r\n   <g id=\"line2d_13\">\r\n    <path clip-path=\"url(#pe8ab03ca56)\" d=\"M 162.8525 224.997153 \r\nL 213.0725 224.997153 \r\nL 213.0725 224.937877 \r\nL 162.8525 224.937877 \r\nL 162.8525 224.997153 \r\n\" style=\"fill:none;stroke:#1f77b4;stroke-linecap:square;\"/>\r\n   </g>\r\n   <g id=\"line2d_14\">\r\n    <path clip-path=\"url(#pe8ab03ca56)\" d=\"M 187.9625 224.997153 \r\nL 187.9625 225.055047 \r\n\" style=\"fill:none;stroke:#1f77b4;stroke-linecap:square;\"/>\r\n   </g>\r\n   <g id=\"line2d_15\">\r\n    <path clip-path=\"url(#pe8ab03ca56)\" d=\"M 187.9625 224.937877 \r\nL 187.9625 224.850548 \r\n\" style=\"fill:none;stroke:#1f77b4;stroke-linecap:square;\"/>\r\n   </g>\r\n   <g id=\"line2d_16\">\r\n    <path clip-path=\"url(#pe8ab03ca56)\" d=\"M 175.4075 225.055047 \r\nL 200.5175 225.055047 \r\n\" style=\"fill:none;stroke:#000000;stroke-linecap:square;\"/>\r\n   </g>\r\n   <g id=\"line2d_17\">\r\n    <path clip-path=\"url(#pe8ab03ca56)\" d=\"M 175.4075 224.850548 \r\nL 200.5175 224.850548 \r\n\" style=\"fill:none;stroke:#000000;stroke-linecap:square;\"/>\r\n   </g>\r\n   <g id=\"line2d_18\">\r\n    <defs>\r\n     <path d=\"M 0 3 \r\nC 0.795609 3 1.55874 2.683901 2.12132 2.12132 \r\nC 2.683901 1.55874 3 0.795609 3 0 \r\nC 3 -0.795609 2.683901 -1.55874 2.12132 -2.12132 \r\nC 1.55874 -2.683901 0.795609 -3 0 -3 \r\nC -0.795609 -3 -1.55874 -2.683901 -2.12132 -2.12132 \r\nC -2.683901 -1.55874 -3 -0.795609 -3 0 \r\nC -3 0.795609 -2.683901 1.55874 -2.12132 2.12132 \r\nC -1.55874 2.683901 -0.795609 3 0 3 \r\nz\r\n\" id=\"m9a34373ffe\" style=\"stroke:#000000;\"/>\r\n    </defs>\r\n    <g clip-path=\"url(#pe8ab03ca56)\">\r\n     <use style=\"fill-opacity:0;stroke:#000000;\" x=\"187.9625\" xlink:href=\"#m9a34373ffe\" y=\"225.100683\"/>\r\n     <use style=\"fill-opacity:0;stroke:#000000;\" x=\"187.9625\" xlink:href=\"#m9a34373ffe\" y=\"225.165852\"/>\r\n     <use style=\"fill-opacity:0;stroke:#000000;\" x=\"187.9625\" xlink:href=\"#m9a34373ffe\" y=\"225.354801\"/>\r\n     <use style=\"fill-opacity:0;stroke:#000000;\" x=\"187.9625\" xlink:href=\"#m9a34373ffe\" y=\"225.128337\"/>\r\n     <use style=\"fill-opacity:0;stroke:#000000;\" x=\"187.9625\" xlink:href=\"#m9a34373ffe\" y=\"225.175952\"/>\r\n     <use style=\"fill-opacity:0;stroke:#000000;\" x=\"187.9625\" xlink:href=\"#m9a34373ffe\" y=\"224.441134\"/>\r\n     <use style=\"fill-opacity:0;stroke:#000000;\" x=\"187.9625\" xlink:href=\"#m9a34373ffe\" y=\"224.805037\"/>\r\n     <use style=\"fill-opacity:0;stroke:#000000;\" x=\"187.9625\" xlink:href=\"#m9a34373ffe\" y=\"224.823782\"/>\r\n     <use style=\"fill-opacity:0;stroke:#000000;\" x=\"187.9625\" xlink:href=\"#m9a34373ffe\" y=\"224.800646\"/>\r\n     <use style=\"fill-opacity:0;stroke:#000000;\" x=\"187.9625\" xlink:href=\"#m9a34373ffe\" y=\"224.819775\"/>\r\n     <use style=\"fill-opacity:0;stroke:#000000;\" x=\"187.9625\" xlink:href=\"#m9a34373ffe\" y=\"224.487322\"/>\r\n     <use style=\"fill-opacity:0;stroke:#000000;\" x=\"187.9625\" xlink:href=\"#m9a34373ffe\" y=\"224.797319\"/>\r\n     <use style=\"fill-opacity:0;stroke:#000000;\" x=\"187.9625\" xlink:href=\"#m9a34373ffe\" y=\"224.69009\"/>\r\n     <use style=\"fill-opacity:0;stroke:#000000;\" x=\"187.9625\" xlink:href=\"#m9a34373ffe\" y=\"195.735522\"/>\r\n     <use style=\"fill-opacity:0;stroke:#000000;\" x=\"187.9625\" xlink:href=\"#m9a34373ffe\" y=\"224.836212\"/>\r\n     <use style=\"fill-opacity:0;stroke:#000000;\" x=\"187.9625\" xlink:href=\"#m9a34373ffe\" y=\"224.043611\"/>\r\n     <use style=\"fill-opacity:0;stroke:#000000;\" x=\"187.9625\" xlink:href=\"#m9a34373ffe\" y=\"224.841316\"/>\r\n     <use style=\"fill-opacity:0;stroke:#000000;\" x=\"187.9625\" xlink:href=\"#m9a34373ffe\" y=\"224.819775\"/>\r\n     <use style=\"fill-opacity:0;stroke:#000000;\" x=\"187.9625\" xlink:href=\"#m9a34373ffe\" y=\"223.144516\"/>\r\n     <use style=\"fill-opacity:0;stroke:#000000;\" x=\"187.9625\" xlink:href=\"#m9a34373ffe\" y=\"224.629543\"/>\r\n     <use style=\"fill-opacity:0;stroke:#000000;\" x=\"187.9625\" xlink:href=\"#m9a34373ffe\" y=\"224.627652\"/>\r\n     <use style=\"fill-opacity:0;stroke:#000000;\" x=\"187.9625\" xlink:href=\"#m9a34373ffe\" y=\"224.8346\"/>\r\n     <use style=\"fill-opacity:0;stroke:#000000;\" x=\"187.9625\" xlink:href=\"#m9a34373ffe\" y=\"224.159486\"/>\r\n     <use style=\"fill-opacity:0;stroke:#000000;\" x=\"187.9625\" xlink:href=\"#m9a34373ffe\" y=\"215.668542\"/>\r\n     <use style=\"fill-opacity:0;stroke:#000000;\" x=\"187.9625\" xlink:href=\"#m9a34373ffe\" y=\"224.439021\"/>\r\n     <use style=\"fill-opacity:0;stroke:#000000;\" x=\"187.9625\" xlink:href=\"#m9a34373ffe\" y=\"218.289878\"/>\r\n     <use style=\"fill-opacity:0;stroke:#000000;\" x=\"187.9625\" xlink:href=\"#m9a34373ffe\" y=\"224.631758\"/>\r\n     <use style=\"fill-opacity:0;stroke:#000000;\" x=\"187.9625\" xlink:href=\"#m9a34373ffe\" y=\"224.810003\"/>\r\n     <use style=\"fill-opacity:0;stroke:#000000;\" x=\"187.9625\" xlink:href=\"#m9a34373ffe\" y=\"224.770379\"/>\r\n     <use style=\"fill-opacity:0;stroke:#000000;\" x=\"187.9625\" xlink:href=\"#m9a34373ffe\" y=\"220.507438\"/>\r\n     <use style=\"fill-opacity:0;stroke:#000000;\" x=\"187.9625\" xlink:href=\"#m9a34373ffe\" y=\"224.823975\"/>\r\n     <use style=\"fill-opacity:0;stroke:#000000;\" x=\"187.9625\" xlink:href=\"#m9a34373ffe\" y=\"224.542925\"/>\r\n     <use style=\"fill-opacity:0;stroke:#000000;\" x=\"187.9625\" xlink:href=\"#m9a34373ffe\" y=\"208.653041\"/>\r\n     <use style=\"fill-opacity:0;stroke:#000000;\" x=\"187.9625\" xlink:href=\"#m9a34373ffe\" y=\"224.823975\"/>\r\n     <use style=\"fill-opacity:0;stroke:#000000;\" x=\"187.9625\" xlink:href=\"#m9a34373ffe\" y=\"220.305662\"/>\r\n     <use style=\"fill-opacity:0;stroke:#000000;\" x=\"187.9625\" xlink:href=\"#m9a34373ffe\" y=\"224.788558\"/>\r\n     <use style=\"fill-opacity:0;stroke:#000000;\" x=\"187.9625\" xlink:href=\"#m9a34373ffe\" y=\"224.60105\"/>\r\n     <use style=\"fill-opacity:0;stroke:#000000;\" x=\"187.9625\" xlink:href=\"#m9a34373ffe\" y=\"224.660257\"/>\r\n     <use style=\"fill-opacity:0;stroke:#000000;\" x=\"187.9625\" xlink:href=\"#m9a34373ffe\" y=\"224.823975\"/>\r\n     <use style=\"fill-opacity:0;stroke:#000000;\" x=\"187.9625\" xlink:href=\"#m9a34373ffe\" y=\"220.479111\"/>\r\n     <use style=\"fill-opacity:0;stroke:#000000;\" x=\"187.9625\" xlink:href=\"#m9a34373ffe\" y=\"223.972139\"/>\r\n     <use style=\"fill-opacity:0;stroke:#000000;\" x=\"187.9625\" xlink:href=\"#m9a34373ffe\" y=\"224.838073\"/>\r\n     <use style=\"fill-opacity:0;stroke:#000000;\" x=\"187.9625\" xlink:href=\"#m9a34373ffe\" y=\"223.961998\"/>\r\n     <use style=\"fill-opacity:0;stroke:#000000;\" x=\"187.9625\" xlink:href=\"#m9a34373ffe\" y=\"224.798151\"/>\r\n     <use style=\"fill-opacity:0;stroke:#000000;\" x=\"187.9625\" xlink:href=\"#m9a34373ffe\" y=\"224.404739\"/>\r\n     <use style=\"fill-opacity:0;stroke:#000000;\" x=\"187.9625\" xlink:href=\"#m9a34373ffe\" y=\"224.291227\"/>\r\n     <use style=\"fill-opacity:0;stroke:#000000;\" x=\"187.9625\" xlink:href=\"#m9a34373ffe\" y=\"224.846461\"/>\r\n     <use style=\"fill-opacity:0;stroke:#000000;\" x=\"187.9625\" xlink:href=\"#m9a34373ffe\" y=\"224.233873\"/>\r\n     <use style=\"fill-opacity:0;stroke:#000000;\" x=\"187.9625\" xlink:href=\"#m9a34373ffe\" y=\"223.375106\"/>\r\n     <use style=\"fill-opacity:0;stroke:#000000;\" x=\"187.9625\" xlink:href=\"#m9a34373ffe\" y=\"224.843959\"/>\r\n     <use style=\"fill-opacity:0;stroke:#000000;\" x=\"187.9625\" xlink:href=\"#m9a34373ffe\" y=\"224.53811\"/>\r\n     <use style=\"fill-opacity:0;stroke:#000000;\" x=\"187.9625\" xlink:href=\"#m9a34373ffe\" y=\"224.764259\"/>\r\n     <use style=\"fill-opacity:0;stroke:#000000;\" x=\"187.9625\" xlink:href=\"#m9a34373ffe\" y=\"224.774915\"/>\r\n     <use style=\"fill-opacity:0;stroke:#000000;\" x=\"187.9625\" xlink:href=\"#m9a34373ffe\" y=\"222.339427\"/>\r\n     <use style=\"fill-opacity:0;stroke:#000000;\" x=\"187.9625\" xlink:href=\"#m9a34373ffe\" y=\"224.638948\"/>\r\n     <use style=\"fill-opacity:0;stroke:#000000;\" x=\"187.9625\" xlink:href=\"#m9a34373ffe\" y=\"224.759688\"/>\r\n     <use style=\"fill-opacity:0;stroke:#000000;\" x=\"187.9625\" xlink:href=\"#m9a34373ffe\" y=\"224.601593\"/>\r\n     <use style=\"fill-opacity:0;stroke:#000000;\" x=\"187.9625\" xlink:href=\"#m9a34373ffe\" y=\"223.43673\"/>\r\n     <use style=\"fill-opacity:0;stroke:#000000;\" x=\"187.9625\" xlink:href=\"#m9a34373ffe\" y=\"223.245413\"/>\r\n     <use style=\"fill-opacity:0;stroke:#000000;\" x=\"187.9625\" xlink:href=\"#m9a34373ffe\" y=\"217.379528\"/>\r\n     <use style=\"fill-opacity:0;stroke:#000000;\" x=\"187.9625\" xlink:href=\"#m9a34373ffe\" y=\"218.413163\"/>\r\n     <use style=\"fill-opacity:0;stroke:#000000;\" x=\"187.9625\" xlink:href=\"#m9a34373ffe\" y=\"224.821963\"/>\r\n     <use style=\"fill-opacity:0;stroke:#000000;\" x=\"187.9625\" xlink:href=\"#m9a34373ffe\" y=\"224.823975\"/>\r\n     <use style=\"fill-opacity:0;stroke:#000000;\" x=\"187.9625\" xlink:href=\"#m9a34373ffe\" y=\"224.838073\"/>\r\n     <use style=\"fill-opacity:0;stroke:#000000;\" x=\"187.9625\" xlink:href=\"#m9a34373ffe\" y=\"223.653935\"/>\r\n     <use style=\"fill-opacity:0;stroke:#000000;\" x=\"187.9625\" xlink:href=\"#m9a34373ffe\" y=\"224.81256\"/>\r\n     <use style=\"fill-opacity:0;stroke:#000000;\" x=\"187.9625\" xlink:href=\"#m9a34373ffe\" y=\"224.743466\"/>\r\n     <use style=\"fill-opacity:0;stroke:#000000;\" x=\"187.9625\" xlink:href=\"#m9a34373ffe\" y=\"222.593708\"/>\r\n     <use style=\"fill-opacity:0;stroke:#000000;\" x=\"187.9625\" xlink:href=\"#m9a34373ffe\" y=\"224.838073\"/>\r\n     <use style=\"fill-opacity:0;stroke:#000000;\" x=\"187.9625\" xlink:href=\"#m9a34373ffe\" y=\"224.721842\"/>\r\n     <use style=\"fill-opacity:0;stroke:#000000;\" x=\"187.9625\" xlink:href=\"#m9a34373ffe\" y=\"224.65359\"/>\r\n     <use style=\"fill-opacity:0;stroke:#000000;\" x=\"187.9625\" xlink:href=\"#m9a34373ffe\" y=\"224.792578\"/>\r\n     <use style=\"fill-opacity:0;stroke:#000000;\" x=\"187.9625\" xlink:href=\"#m9a34373ffe\" y=\"224.628726\"/>\r\n     <use style=\"fill-opacity:0;stroke:#000000;\" x=\"187.9625\" xlink:href=\"#m9a34373ffe\" y=\"224.555813\"/>\r\n     <use style=\"fill-opacity:0;stroke:#000000;\" x=\"187.9625\" xlink:href=\"#m9a34373ffe\" y=\"221.321266\"/>\r\n     <use style=\"fill-opacity:0;stroke:#000000;\" x=\"187.9625\" xlink:href=\"#m9a34373ffe\" y=\"27.682074\"/>\r\n     <use style=\"fill-opacity:0;stroke:#000000;\" x=\"187.9625\" xlink:href=\"#m9a34373ffe\" y=\"223.544774\"/>\r\n     <use style=\"fill-opacity:0;stroke:#000000;\" x=\"187.9625\" xlink:href=\"#m9a34373ffe\" y=\"224.789944\"/>\r\n     <use style=\"fill-opacity:0;stroke:#000000;\" x=\"187.9625\" xlink:href=\"#m9a34373ffe\" y=\"222.896087\"/>\r\n     <use style=\"fill-opacity:0;stroke:#000000;\" x=\"187.9625\" xlink:href=\"#m9a34373ffe\" y=\"224.848885\"/>\r\n     <use style=\"fill-opacity:0;stroke:#000000;\" x=\"187.9625\" xlink:href=\"#m9a34373ffe\" y=\"224.584673\"/>\r\n     <use style=\"fill-opacity:0;stroke:#000000;\" x=\"187.9625\" xlink:href=\"#m9a34373ffe\" y=\"224.639888\"/>\r\n     <use style=\"fill-opacity:0;stroke:#000000;\" x=\"187.9625\" xlink:href=\"#m9a34373ffe\" y=\"217.900335\"/>\r\n     <use style=\"fill-opacity:0;stroke:#000000;\" x=\"187.9625\" xlink:href=\"#m9a34373ffe\" y=\"224.043611\"/>\r\n     <use style=\"fill-opacity:0;stroke:#000000;\" x=\"187.9625\" xlink:href=\"#m9a34373ffe\" y=\"223.02288\"/>\r\n     <use style=\"fill-opacity:0;stroke:#000000;\" x=\"187.9625\" xlink:href=\"#m9a34373ffe\" y=\"188.526788\"/>\r\n     <use style=\"fill-opacity:0;stroke:#000000;\" x=\"187.9625\" xlink:href=\"#m9a34373ffe\" y=\"224.825048\"/>\r\n     <use style=\"fill-opacity:0;stroke:#000000;\" x=\"187.9625\" xlink:href=\"#m9a34373ffe\" y=\"224.840568\"/>\r\n     <use style=\"fill-opacity:0;stroke:#000000;\" x=\"187.9625\" xlink:href=\"#m9a34373ffe\" y=\"224.82726\"/>\r\n     <use style=\"fill-opacity:0;stroke:#000000;\" x=\"187.9625\" xlink:href=\"#m9a34373ffe\" y=\"224.848885\"/>\r\n     <use style=\"fill-opacity:0;stroke:#000000;\" x=\"187.9625\" xlink:href=\"#m9a34373ffe\" y=\"224.355934\"/>\r\n     <use style=\"fill-opacity:0;stroke:#000000;\" x=\"187.9625\" xlink:href=\"#m9a34373ffe\" y=\"223.517119\"/>\r\n     <use style=\"fill-opacity:0;stroke:#000000;\" x=\"187.9625\" xlink:href=\"#m9a34373ffe\" y=\"224.755481\"/>\r\n    </g>\r\n   </g>\r\n   <g id=\"line2d_19\">\r\n    <path clip-path=\"url(#pe8ab03ca56)\" d=\"M 162.8525 224.982892 \r\nL 213.0725 224.982892 \r\n\" style=\"fill:none;stroke:#2ca02c;stroke-linecap:square;\"/>\r\n   </g>\r\n   <g id=\"patch_3\">\r\n    <path d=\"M 20.5625 235.238437 \r\nL 20.5625 17.798437 \r\n\" style=\"fill:none;stroke:#000000;stroke-linecap:square;stroke-linejoin:miter;stroke-width:0.8;\"/>\r\n   </g>\r\n   <g id=\"patch_4\">\r\n    <path d=\"M 355.3625 235.238437 \r\nL 355.3625 17.798437 \r\n\" style=\"fill:none;stroke:#000000;stroke-linecap:square;stroke-linejoin:miter;stroke-width:0.8;\"/>\r\n   </g>\r\n   <g id=\"patch_5\">\r\n    <path d=\"M 20.5625 235.238437 \r\nL 355.3625 235.238437 \r\n\" style=\"fill:none;stroke:#000000;stroke-linecap:square;stroke-linejoin:miter;stroke-width:0.8;\"/>\r\n   </g>\r\n   <g id=\"patch_6\">\r\n    <path d=\"M 20.5625 17.798437 \r\nL 355.3625 17.798437 \r\n\" style=\"fill:none;stroke:#000000;stroke-linecap:square;stroke-linejoin:miter;stroke-width:0.8;\"/>\r\n   </g>\r\n  </g>\r\n </g>\r\n <defs>\r\n  <clipPath id=\"pe8ab03ca56\">\r\n   <rect height=\"217.44\" width=\"334.8\" x=\"20.5625\" y=\"17.798437\"/>\r\n  </clipPath>\r\n </defs>\r\n</svg>\r\n",
      "image/png": "[encoded data removed]"
     },
     "metadata": {
      "needs_background": "light"
     }
    }
   ],
   "source": [
    "df.boxplot(column=['DEB_CRE_USD'])"
   ]
  },
  {
   "cell_type": "code",
   "execution_count": 6,
   "metadata": {},
   "outputs": [
    {
     "output_type": "execute_result",
     "data": {
      "text/plain": [
       "      COMP_CODE   AC_DOC_NR PSTNG_DATE  CREATEDON   DOC_DATE  CREDITOR  \\\n",
       "1          1003  5000182043 2019-09-30 2019-09-30 2019-09-30  10027697   \n",
       "2          1003  5100010932 2020-01-17 2020-01-17 2020-01-16  10003556   \n",
       "5          1003  5000071281 2020-04-16 2020-04-16 2020-04-16  10033062   \n",
       "6          1003  1900086719 2019-12-30 2019-12-30 2019-10-03  30013196   \n",
       "7          1003  5100182522 2019-09-13 2019-09-13 2019-09-12  10030946   \n",
       "...         ...         ...        ...        ...        ...       ...   \n",
       "1986       1003  5000150718 2019-08-08 2019-08-08 2019-08-08  10009414   \n",
       "1989       1003  5100006439 2020-01-11 2020-01-11 2020-01-09  10003556   \n",
       "1993       1003  5100190885 2019-09-26 2019-09-26 2019-09-25  30086991   \n",
       "1995       1003  5100110476 2019-06-05 2019-06-05 2019-06-03  10002390   \n",
       "1997       1003  5000119824 2020-06-25 2020-06-25 2020-06-03  10034350   \n",
       "\n",
       "                               NAME      CUSTOMER  \\\n",
       "1              MERGON INTERNATIONAL  nan_CUSTOMER   \n",
       "2                  EXPERIS US, INC.  nan_CUSTOMER   \n",
       "5        SERACARE LIFE SCIENCES INC      50296854   \n",
       "6               RED WING SHOE STORE  nan_CUSTOMER   \n",
       "7                    HIREGENICS INC  nan_CUSTOMER   \n",
       "...                             ...           ...   \n",
       "1986        MICROGENICS CORPORATION      50116128   \n",
       "1989               EXPERIS US, INC.  nan_CUSTOMER   \n",
       "1993  LIFE TECHNOLOGIES CORPORATION  nan_CUSTOMER   \n",
       "1995    MAINE STANDARDS COMPANY LLC  nan_CUSTOMER   \n",
       "1997             STERIGENICS US LLC  nan_CUSTOMER   \n",
       "\n",
       "                              POSTXT  BIC_ZUSERNAM  ... MATL_GROUP_999999  \\\n",
       "1     2L ALINITY BTLE VALIDATION 50%       AUTOSYS  ...                 0   \n",
       "2                                NaN       AUTOSYS  ...                 0   \n",
       "5                                NaN       PAWELGS  ...                 0   \n",
       "6                                NaN    SHARMSX116  ...                 0   \n",
       "7                                NaN       AUTOSYS  ...                 0   \n",
       "...                              ...           ...  ...               ...   \n",
       "1986                             NaN      BERGESX6  ...                 0   \n",
       "1989                             NaN       AUTOSYS  ...                 0   \n",
       "1993                             NaN  C_ERP_BRAINW  ...                 0   \n",
       "1995                             NaN  C_ERP_BRAINW  ...                 0   \n",
       "1997                             NaN      ANDINEX1  ...                 1   \n",
       "\n",
       "      MATL_GROUP_Z1-102110 MATL_GROUP_Z1-102126 MATL_GROUP_Z1-102130  \\\n",
       "1                        0                    0                    0   \n",
       "2                        0                    0                    0   \n",
       "5                        0                    1                    0   \n",
       "6                        0                    0                    0   \n",
       "7                        0                    0                    0   \n",
       "...                    ...                  ...                  ...   \n",
       "1986                     1                    0                    0   \n",
       "1989                     0                    0                    0   \n",
       "1993                     0                    0                    0   \n",
       "1995                     0                    0                    0   \n",
       "1997                     0                    0                    0   \n",
       "\n",
       "      MATL_GROUP_Z1-134170  MATL_GROUP_Z1-182198  MATL_GROUP_nan_MATL_GROUP  \\\n",
       "1                        0                     0                          1   \n",
       "2                        0                     0                          1   \n",
       "5                        0                     0                          0   \n",
       "6                        0                     0                          1   \n",
       "7                        0                     0                          1   \n",
       "...                    ...                   ...                        ...   \n",
       "1986                     0                     0                          0   \n",
       "1989                     0                     0                          1   \n",
       "1993                     0                     0                          1   \n",
       "1995                     0                     0                          1   \n",
       "1997                     0                     0                          0   \n",
       "\n",
       "      ACCNT_GRPV_Z001  ACCNT_GRPV_Z003  ACCNT_GRPV_Z004  \n",
       "1                   1                0                0  \n",
       "2                   1                0                0  \n",
       "5                   1                0                0  \n",
       "6                   0                1                0  \n",
       "7                   1                0                0  \n",
       "...               ...              ...              ...  \n",
       "1986                1                0                0  \n",
       "1989                1                0                0  \n",
       "1993                0                1                0  \n",
       "1995                1                0                0  \n",
       "1997                1                0                0  \n",
       "\n",
       "[1020 rows x 141 columns]"
      ],
      "text/html": "<div>\n<style scoped>\n    .dataframe tbody tr th:only-of-type {\n        vertical-align: middle;\n    }\n\n    .dataframe tbody tr th {\n        vertical-align: top;\n    }\n\n    .dataframe thead th {\n        text-align: right;\n    }\n</style>\n<table border=\"1\" class=\"dataframe\">\n  <thead>\n    <tr style=\"text-align: right;\">\n      <th></th>\n      <th>COMP_CODE</th>\n      <th>AC_DOC_NR</th>\n      <th>PSTNG_DATE</th>\n      <th>CREATEDON</th>\n      <th>DOC_DATE</th>\n      <th>CREDITOR</th>\n      <th>NAME</th>\n      <th>CUSTOMER</th>\n      <th>POSTXT</th>\n      <th>BIC_ZUSERNAM</th>\n      <th>...</th>\n      <th>MATL_GROUP_999999</th>\n      <th>MATL_GROUP_Z1-102110</th>\n      <th>MATL_GROUP_Z1-102126</th>\n      <th>MATL_GROUP_Z1-102130</th>\n      <th>MATL_GROUP_Z1-134170</th>\n      <th>MATL_GROUP_Z1-182198</th>\n      <th>MATL_GROUP_nan_MATL_GROUP</th>\n      <th>ACCNT_GRPV_Z001</th>\n      <th>ACCNT_GRPV_Z003</th>\n      <th>ACCNT_GRPV_Z004</th>\n    </tr>\n  </thead>\n  <tbody>\n    <tr>\n      <th>1</th>\n      <td>1003</td>\n      <td>5000182043</td>\n      <td>2019-09-30</td>\n      <td>2019-09-30</td>\n      <td>2019-09-30</td>\n      <td>10027697</td>\n      <td>MERGON INTERNATIONAL</td>\n      <td>nan_CUSTOMER</td>\n      <td>2L ALINITY BTLE VALIDATION 50%</td>\n      <td>AUTOSYS</td>\n      <td>...</td>\n      <td>0</td>\n      <td>0</td>\n      <td>0</td>\n      <td>0</td>\n      <td>0</td>\n      <td>0</td>\n      <td>1</td>\n      <td>1</td>\n      <td>0</td>\n      <td>0</td>\n    </tr>\n    <tr>\n      <th>2</th>\n      <td>1003</td>\n      <td>5100010932</td>\n      <td>2020-01-17</td>\n      <td>2020-01-17</td>\n      <td>2020-01-16</td>\n      <td>10003556</td>\n      <td>EXPERIS US, INC.</td>\n      <td>nan_CUSTOMER</td>\n      <td>NaN</td>\n      <td>AUTOSYS</td>\n      <td>...</td>\n      <td>0</td>\n      <td>0</td>\n      <td>0</td>\n      <td>0</td>\n      <td>0</td>\n      <td>0</td>\n      <td>1</td>\n      <td>1</td>\n      <td>0</td>\n      <td>0</td>\n    </tr>\n    <tr>\n      <th>5</th>\n      <td>1003</td>\n      <td>5000071281</td>\n      <td>2020-04-16</td>\n      <td>2020-04-16</td>\n      <td>2020-04-16</td>\n      <td>10033062</td>\n      <td>SERACARE LIFE SCIENCES INC</td>\n      <td>50296854</td>\n      <td>NaN</td>\n      <td>PAWELGS</td>\n      <td>...</td>\n      <td>0</td>\n      <td>0</td>\n      <td>1</td>\n      <td>0</td>\n      <td>0</td>\n      <td>0</td>\n      <td>0</td>\n      <td>1</td>\n      <td>0</td>\n      <td>0</td>\n    </tr>\n    <tr>\n      <th>6</th>\n      <td>1003</td>\n      <td>1900086719</td>\n      <td>2019-12-30</td>\n      <td>2019-12-30</td>\n      <td>2019-10-03</td>\n      <td>30013196</td>\n      <td>RED WING SHOE STORE</td>\n      <td>nan_CUSTOMER</td>\n      <td>NaN</td>\n      <td>SHARMSX116</td>\n      <td>...</td>\n      <td>0</td>\n      <td>0</td>\n      <td>0</td>\n      <td>0</td>\n      <td>0</td>\n      <td>0</td>\n      <td>1</td>\n      <td>0</td>\n      <td>1</td>\n      <td>0</td>\n    </tr>\n    <tr>\n      <th>7</th>\n      <td>1003</td>\n      <td>5100182522</td>\n      <td>2019-09-13</td>\n      <td>2019-09-13</td>\n      <td>2019-09-12</td>\n      <td>10030946</td>\n      <td>HIREGENICS INC</td>\n      <td>nan_CUSTOMER</td>\n      <td>NaN</td>\n      <td>AUTOSYS</td>\n      <td>...</td>\n      <td>0</td>\n      <td>0</td>\n      <td>0</td>\n      <td>0</td>\n      <td>0</td>\n      <td>0</td>\n      <td>1</td>\n      <td>1</td>\n      <td>0</td>\n      <td>0</td>\n    </tr>\n    <tr>\n      <th>...</th>\n      <td>...</td>\n      <td>...</td>\n      <td>...</td>\n      <td>...</td>\n      <td>...</td>\n      <td>...</td>\n      <td>...</td>\n      <td>...</td>\n      <td>...</td>\n      <td>...</td>\n      <td>...</td>\n      <td>...</td>\n      <td>...</td>\n      <td>...</td>\n      <td>...</td>\n      <td>...</td>\n      <td>...</td>\n      <td>...</td>\n      <td>...</td>\n      <td>...</td>\n      <td>...</td>\n    </tr>\n    <tr>\n      <th>1986</th>\n      <td>1003</td>\n      <td>5000150718</td>\n      <td>2019-08-08</td>\n      <td>2019-08-08</td>\n      <td>2019-08-08</td>\n      <td>10009414</td>\n      <td>MICROGENICS CORPORATION</td>\n      <td>50116128</td>\n      <td>NaN</td>\n      <td>BERGESX6</td>\n      <td>...</td>\n      <td>0</td>\n      <td>1</td>\n      <td>0</td>\n      <td>0</td>\n      <td>0</td>\n      <td>0</td>\n      <td>0</td>\n      <td>1</td>\n      <td>0</td>\n      <td>0</td>\n    </tr>\n    <tr>\n      <th>1989</th>\n      <td>1003</td>\n      <td>5100006439</td>\n      <td>2020-01-11</td>\n      <td>2020-01-11</td>\n      <td>2020-01-09</td>\n      <td>10003556</td>\n      <td>EXPERIS US, INC.</td>\n      <td>nan_CUSTOMER</td>\n      <td>NaN</td>\n      <td>AUTOSYS</td>\n      <td>...</td>\n      <td>0</td>\n      <td>0</td>\n      <td>0</td>\n      <td>0</td>\n      <td>0</td>\n      <td>0</td>\n      <td>1</td>\n      <td>1</td>\n      <td>0</td>\n      <td>0</td>\n    </tr>\n    <tr>\n      <th>1993</th>\n      <td>1003</td>\n      <td>5100190885</td>\n      <td>2019-09-26</td>\n      <td>2019-09-26</td>\n      <td>2019-09-25</td>\n      <td>30086991</td>\n      <td>LIFE TECHNOLOGIES CORPORATION</td>\n      <td>nan_CUSTOMER</td>\n      <td>NaN</td>\n      <td>C_ERP_BRAINW</td>\n      <td>...</td>\n      <td>0</td>\n      <td>0</td>\n      <td>0</td>\n      <td>0</td>\n      <td>0</td>\n      <td>0</td>\n      <td>1</td>\n      <td>0</td>\n      <td>1</td>\n      <td>0</td>\n    </tr>\n    <tr>\n      <th>1995</th>\n      <td>1003</td>\n      <td>5100110476</td>\n      <td>2019-06-05</td>\n      <td>2019-06-05</td>\n      <td>2019-06-03</td>\n      <td>10002390</td>\n      <td>MAINE STANDARDS COMPANY LLC</td>\n      <td>nan_CUSTOMER</td>\n      <td>NaN</td>\n      <td>C_ERP_BRAINW</td>\n      <td>...</td>\n      <td>0</td>\n      <td>0</td>\n      <td>0</td>\n      <td>0</td>\n      <td>0</td>\n      <td>0</td>\n      <td>1</td>\n      <td>1</td>\n      <td>0</td>\n      <td>0</td>\n    </tr>\n    <tr>\n      <th>1997</th>\n      <td>1003</td>\n      <td>5000119824</td>\n      <td>2020-06-25</td>\n      <td>2020-06-25</td>\n      <td>2020-06-03</td>\n      <td>10034350</td>\n      <td>STERIGENICS US LLC</td>\n      <td>nan_CUSTOMER</td>\n      <td>NaN</td>\n      <td>ANDINEX1</td>\n      <td>...</td>\n      <td>1</td>\n      <td>0</td>\n      <td>0</td>\n      <td>0</td>\n      <td>0</td>\n      <td>0</td>\n      <td>0</td>\n      <td>1</td>\n      <td>0</td>\n      <td>0</td>\n    </tr>\n  </tbody>\n</table>\n<p>1020 rows × 141 columns</p>\n</div>"
     },
     "metadata": {},
     "execution_count": 6
    }
   ],
   "source": [
    "modelVals = FeatureEngine(df)\n",
    "\n",
    "modelVals.oneHotEncodeLabels([\"REF_KEY1\",\"PROFIT_CTR\",\"AC_DOC_TYP\",\"POST_KEY\",\"GL_ACCOUNT\",\"ZTCODE\", \"BIC_ZTERMPAY\", \"MATL_GROUP\", \"ACCNT_GRPV\"])\n",
    "\n",
    "\n",
    "#modelVals.oneHotEncodeLabels(\"BIC_ZTERMPAY\")\n",
    "\n",
    "modelVals.df"
   ]
  },
  {
   "cell_type": "code",
   "execution_count": 7,
   "metadata": {},
   "outputs": [
    {
     "output_type": "execute_result",
     "data": {
      "text/plain": [
       "      index  COMP_CODE   AC_DOC_NR PSTNG_DATE  CREATEDON   DOC_DATE  CREDITOR  \\\n",
       "0         1       1003  5000182043 2019-09-30 2019-09-30 2019-09-30  10027697   \n",
       "1         2       1003  5100010932 2020-01-17 2020-01-17 2020-01-16  10003556   \n",
       "2         5       1003  5000071281 2020-04-16 2020-04-16 2020-04-16  10033062   \n",
       "3         6       1003  1900086719 2019-12-30 2019-12-30 2019-10-03  30013196   \n",
       "4         7       1003  5100182522 2019-09-13 2019-09-13 2019-09-12  10030946   \n",
       "...     ...        ...         ...        ...        ...        ...       ...   \n",
       "1015   1986       1003  5000150718 2019-08-08 2019-08-08 2019-08-08  10009414   \n",
       "1016   1989       1003  5100006439 2020-01-11 2020-01-11 2020-01-09  10003556   \n",
       "1017   1993       1003  5100190885 2019-09-26 2019-09-26 2019-09-25  30086991   \n",
       "1018   1995       1003  5100110476 2019-06-05 2019-06-05 2019-06-03  10002390   \n",
       "1019   1997       1003  5000119824 2020-06-25 2020-06-25 2020-06-03  10034350   \n",
       "\n",
       "                               NAME      CUSTOMER  \\\n",
       "0              MERGON INTERNATIONAL  nan_CUSTOMER   \n",
       "1                  EXPERIS US, INC.  nan_CUSTOMER   \n",
       "2        SERACARE LIFE SCIENCES INC      50296854   \n",
       "3               RED WING SHOE STORE  nan_CUSTOMER   \n",
       "4                    HIREGENICS INC  nan_CUSTOMER   \n",
       "...                             ...           ...   \n",
       "1015        MICROGENICS CORPORATION      50116128   \n",
       "1016               EXPERIS US, INC.  nan_CUSTOMER   \n",
       "1017  LIFE TECHNOLOGIES CORPORATION  nan_CUSTOMER   \n",
       "1018    MAINE STANDARDS COMPANY LLC  nan_CUSTOMER   \n",
       "1019             STERIGENICS US LLC  nan_CUSTOMER   \n",
       "\n",
       "                              POSTXT  ... sigma aldrich standards  \\\n",
       "0     2L ALINITY BTLE VALIDATION 50%  ...             0         0   \n",
       "1                                NaN  ...             0         0   \n",
       "2                                NaN  ...             0         0   \n",
       "3                                NaN  ...             0         0   \n",
       "4                                NaN  ...             0         0   \n",
       "...                              ...  ...           ...       ...   \n",
       "1015                             NaN  ...             0         0   \n",
       "1016                             NaN  ...             0         0   \n",
       "1017                             NaN  ...             0         0   \n",
       "1018                             NaN  ...             0         1   \n",
       "1019                             NaN  ...             0         0   \n",
       "\n",
       "      standards company staples staples advantage  sterigenics  \\\n",
       "0                     0       0                 0            0   \n",
       "1                     0       0                 0            0   \n",
       "2                     0       0                 0            0   \n",
       "3                     0       0                 0            0   \n",
       "4                     0       0                 0            0   \n",
       "...                 ...     ...               ...          ...   \n",
       "1015                  0       0                 0            0   \n",
       "1016                  0       0                 0            0   \n",
       "1017                  0       0                 0            0   \n",
       "1018                  1       0                 0            0   \n",
       "1019                  0       0                 0            1   \n",
       "\n",
       "      sterigenics llc  technologies  vwr  vwr scientific  \n",
       "0                   0             0    0               0  \n",
       "1                   0             0    0               0  \n",
       "2                   0             0    0               0  \n",
       "3                   0             0    0               0  \n",
       "4                   0             0    0               0  \n",
       "...               ...           ...  ...             ...  \n",
       "1015                0             0    0               0  \n",
       "1016                0             0    0               0  \n",
       "1017                0             1    0               0  \n",
       "1018                0             0    0               0  \n",
       "1019                1             0    0               0  \n",
       "\n",
       "[1020 rows x 223 columns]"
      ],
      "text/html": "<div>\n<style scoped>\n    .dataframe tbody tr th:only-of-type {\n        vertical-align: middle;\n    }\n\n    .dataframe tbody tr th {\n        vertical-align: top;\n    }\n\n    .dataframe thead th {\n        text-align: right;\n    }\n</style>\n<table border=\"1\" class=\"dataframe\">\n  <thead>\n    <tr style=\"text-align: right;\">\n      <th></th>\n      <th>index</th>\n      <th>COMP_CODE</th>\n      <th>AC_DOC_NR</th>\n      <th>PSTNG_DATE</th>\n      <th>CREATEDON</th>\n      <th>DOC_DATE</th>\n      <th>CREDITOR</th>\n      <th>NAME</th>\n      <th>CUSTOMER</th>\n      <th>POSTXT</th>\n      <th>...</th>\n      <th>sigma aldrich</th>\n      <th>standards</th>\n      <th>standards company</th>\n      <th>staples</th>\n      <th>staples advantage</th>\n      <th>sterigenics</th>\n      <th>sterigenics llc</th>\n      <th>technologies</th>\n      <th>vwr</th>\n      <th>vwr scientific</th>\n    </tr>\n  </thead>\n  <tbody>\n    <tr>\n      <th>0</th>\n      <td>1</td>\n      <td>1003</td>\n      <td>5000182043</td>\n      <td>2019-09-30</td>\n      <td>2019-09-30</td>\n      <td>2019-09-30</td>\n      <td>10027697</td>\n      <td>MERGON INTERNATIONAL</td>\n      <td>nan_CUSTOMER</td>\n      <td>2L ALINITY BTLE VALIDATION 50%</td>\n      <td>...</td>\n      <td>0</td>\n      <td>0</td>\n      <td>0</td>\n      <td>0</td>\n      <td>0</td>\n      <td>0</td>\n      <td>0</td>\n      <td>0</td>\n      <td>0</td>\n      <td>0</td>\n    </tr>\n    <tr>\n      <th>1</th>\n      <td>2</td>\n      <td>1003</td>\n      <td>5100010932</td>\n      <td>2020-01-17</td>\n      <td>2020-01-17</td>\n      <td>2020-01-16</td>\n      <td>10003556</td>\n      <td>EXPERIS US, INC.</td>\n      <td>nan_CUSTOMER</td>\n      <td>NaN</td>\n      <td>...</td>\n      <td>0</td>\n      <td>0</td>\n      <td>0</td>\n      <td>0</td>\n      <td>0</td>\n      <td>0</td>\n      <td>0</td>\n      <td>0</td>\n      <td>0</td>\n      <td>0</td>\n    </tr>\n    <tr>\n      <th>2</th>\n      <td>5</td>\n      <td>1003</td>\n      <td>5000071281</td>\n      <td>2020-04-16</td>\n      <td>2020-04-16</td>\n      <td>2020-04-16</td>\n      <td>10033062</td>\n      <td>SERACARE LIFE SCIENCES INC</td>\n      <td>50296854</td>\n      <td>NaN</td>\n      <td>...</td>\n      <td>0</td>\n      <td>0</td>\n      <td>0</td>\n      <td>0</td>\n      <td>0</td>\n      <td>0</td>\n      <td>0</td>\n      <td>0</td>\n      <td>0</td>\n      <td>0</td>\n    </tr>\n    <tr>\n      <th>3</th>\n      <td>6</td>\n      <td>1003</td>\n      <td>1900086719</td>\n      <td>2019-12-30</td>\n      <td>2019-12-30</td>\n      <td>2019-10-03</td>\n      <td>30013196</td>\n      <td>RED WING SHOE STORE</td>\n      <td>nan_CUSTOMER</td>\n      <td>NaN</td>\n      <td>...</td>\n      <td>0</td>\n      <td>0</td>\n      <td>0</td>\n      <td>0</td>\n      <td>0</td>\n      <td>0</td>\n      <td>0</td>\n      <td>0</td>\n      <td>0</td>\n      <td>0</td>\n    </tr>\n    <tr>\n      <th>4</th>\n      <td>7</td>\n      <td>1003</td>\n      <td>5100182522</td>\n      <td>2019-09-13</td>\n      <td>2019-09-13</td>\n      <td>2019-09-12</td>\n      <td>10030946</td>\n      <td>HIREGENICS INC</td>\n      <td>nan_CUSTOMER</td>\n      <td>NaN</td>\n      <td>...</td>\n      <td>0</td>\n      <td>0</td>\n      <td>0</td>\n      <td>0</td>\n      <td>0</td>\n      <td>0</td>\n      <td>0</td>\n      <td>0</td>\n      <td>0</td>\n      <td>0</td>\n    </tr>\n    <tr>\n      <th>...</th>\n      <td>...</td>\n      <td>...</td>\n      <td>...</td>\n      <td>...</td>\n      <td>...</td>\n      <td>...</td>\n      <td>...</td>\n      <td>...</td>\n      <td>...</td>\n      <td>...</td>\n      <td>...</td>\n      <td>...</td>\n      <td>...</td>\n      <td>...</td>\n      <td>...</td>\n      <td>...</td>\n      <td>...</td>\n      <td>...</td>\n      <td>...</td>\n      <td>...</td>\n      <td>...</td>\n    </tr>\n    <tr>\n      <th>1015</th>\n      <td>1986</td>\n      <td>1003</td>\n      <td>5000150718</td>\n      <td>2019-08-08</td>\n      <td>2019-08-08</td>\n      <td>2019-08-08</td>\n      <td>10009414</td>\n      <td>MICROGENICS CORPORATION</td>\n      <td>50116128</td>\n      <td>NaN</td>\n      <td>...</td>\n      <td>0</td>\n      <td>0</td>\n      <td>0</td>\n      <td>0</td>\n      <td>0</td>\n      <td>0</td>\n      <td>0</td>\n      <td>0</td>\n      <td>0</td>\n      <td>0</td>\n    </tr>\n    <tr>\n      <th>1016</th>\n      <td>1989</td>\n      <td>1003</td>\n      <td>5100006439</td>\n      <td>2020-01-11</td>\n      <td>2020-01-11</td>\n      <td>2020-01-09</td>\n      <td>10003556</td>\n      <td>EXPERIS US, INC.</td>\n      <td>nan_CUSTOMER</td>\n      <td>NaN</td>\n      <td>...</td>\n      <td>0</td>\n      <td>0</td>\n      <td>0</td>\n      <td>0</td>\n      <td>0</td>\n      <td>0</td>\n      <td>0</td>\n      <td>0</td>\n      <td>0</td>\n      <td>0</td>\n    </tr>\n    <tr>\n      <th>1017</th>\n      <td>1993</td>\n      <td>1003</td>\n      <td>5100190885</td>\n      <td>2019-09-26</td>\n      <td>2019-09-26</td>\n      <td>2019-09-25</td>\n      <td>30086991</td>\n      <td>LIFE TECHNOLOGIES CORPORATION</td>\n      <td>nan_CUSTOMER</td>\n      <td>NaN</td>\n      <td>...</td>\n      <td>0</td>\n      <td>0</td>\n      <td>0</td>\n      <td>0</td>\n      <td>0</td>\n      <td>0</td>\n      <td>0</td>\n      <td>1</td>\n      <td>0</td>\n      <td>0</td>\n    </tr>\n    <tr>\n      <th>1018</th>\n      <td>1995</td>\n      <td>1003</td>\n      <td>5100110476</td>\n      <td>2019-06-05</td>\n      <td>2019-06-05</td>\n      <td>2019-06-03</td>\n      <td>10002390</td>\n      <td>MAINE STANDARDS COMPANY LLC</td>\n      <td>nan_CUSTOMER</td>\n      <td>NaN</td>\n      <td>...</td>\n      <td>0</td>\n      <td>1</td>\n      <td>1</td>\n      <td>0</td>\n      <td>0</td>\n      <td>0</td>\n      <td>0</td>\n      <td>0</td>\n      <td>0</td>\n      <td>0</td>\n    </tr>\n    <tr>\n      <th>1019</th>\n      <td>1997</td>\n      <td>1003</td>\n      <td>5000119824</td>\n      <td>2020-06-25</td>\n      <td>2020-06-25</td>\n      <td>2020-06-03</td>\n      <td>10034350</td>\n      <td>STERIGENICS US LLC</td>\n      <td>nan_CUSTOMER</td>\n      <td>NaN</td>\n      <td>...</td>\n      <td>0</td>\n      <td>0</td>\n      <td>0</td>\n      <td>0</td>\n      <td>0</td>\n      <td>1</td>\n      <td>1</td>\n      <td>0</td>\n      <td>0</td>\n      <td>0</td>\n    </tr>\n  </tbody>\n</table>\n<p>1020 rows × 223 columns</p>\n</div>"
     },
     "metadata": {},
     "execution_count": 7
    }
   ],
   "source": [
    "#In addition to frequent words we should also specifically get words or phrases that are specific to HCP selections https://kavita-ganesan.com/extracting-keywords-from-text-tfidf/#.YBT34KdKhPY. To also evaluate if we should use TD-IDF vs. standard count vectorizer\n",
    "\n",
    "#To get all root words, for example https://medium.com/datadriveninvestor/unsupervised-outlier-detection-in-text-corpus-using-deep-learning-41d4284a04c8\n",
    "\n",
    "#To add a feature that counts the # of transacations by vendor\n",
    "\n",
    "vectdf = modelVals.concatVector('textappend',1,2,min_df=0.20,max_df=0.90) \n",
    "\n",
    "modelVals.df\n",
    "\n"
   ]
  },
  {
   "cell_type": "code",
   "execution_count": 8,
   "metadata": {},
   "outputs": [],
   "source": [
    "\n",
    "\n",
    "modelVals.outputFeatures()\n",
    "modelVals.fit_transform()\n",
    "\n",
    "dftrain = modelVals.dfscaled\n"
   ]
  },
  {
   "cell_type": "code",
   "execution_count": 9,
   "metadata": {},
   "outputs": [],
   "source": [
    "dftrain\n",
    "\n",
    "dftrain.to_csv(pathBase + \"\\Datasets\\csvoutput.csv\")"
   ]
  },
  {
   "cell_type": "code",
   "execution_count": 10,
   "metadata": {},
   "outputs": [
    {
     "output_type": "execute_result",
     "data": {
      "text/plain": [
       "(1020, 209)"
      ]
     },
     "metadata": {},
     "execution_count": 10
    }
   ],
   "source": [
    "dftrainnumpy = dftrain.to_numpy()\n",
    "\n",
    "dftrainnumpy.shape"
   ]
  },
  {
   "cell_type": "code",
   "execution_count": 11,
   "metadata": {},
   "outputs": [
    {
     "output_type": "execute_result",
     "data": {
      "text/plain": [
       "      predicted_class   predict\n",
       "0                   0  0.345673\n",
       "1                   0  0.335012\n",
       "2                   0  0.402803\n",
       "3                   0  0.412374\n",
       "4                   0  0.336283\n",
       "...               ...       ...\n",
       "1015                0  0.403388\n",
       "1016                0  0.340854\n",
       "1017                0  0.430910\n",
       "1018                1  0.449803\n",
       "1019                0  0.414197\n",
       "\n",
       "[1020 rows x 2 columns]"
      ],
      "text/html": "<div>\n<style scoped>\n    .dataframe tbody tr th:only-of-type {\n        vertical-align: middle;\n    }\n\n    .dataframe tbody tr th {\n        vertical-align: top;\n    }\n\n    .dataframe thead th {\n        text-align: right;\n    }\n</style>\n<table border=\"1\" class=\"dataframe\">\n  <thead>\n    <tr style=\"text-align: right;\">\n      <th></th>\n      <th>predicted_class</th>\n      <th>predict</th>\n    </tr>\n  </thead>\n  <tbody>\n    <tr>\n      <th>0</th>\n      <td>0</td>\n      <td>0.345673</td>\n    </tr>\n    <tr>\n      <th>1</th>\n      <td>0</td>\n      <td>0.335012</td>\n    </tr>\n    <tr>\n      <th>2</th>\n      <td>0</td>\n      <td>0.402803</td>\n    </tr>\n    <tr>\n      <th>3</th>\n      <td>0</td>\n      <td>0.412374</td>\n    </tr>\n    <tr>\n      <th>4</th>\n      <td>0</td>\n      <td>0.336283</td>\n    </tr>\n    <tr>\n      <th>...</th>\n      <td>...</td>\n      <td>...</td>\n    </tr>\n    <tr>\n      <th>1015</th>\n      <td>0</td>\n      <td>0.403388</td>\n    </tr>\n    <tr>\n      <th>1016</th>\n      <td>0</td>\n      <td>0.340854</td>\n    </tr>\n    <tr>\n      <th>1017</th>\n      <td>0</td>\n      <td>0.430910</td>\n    </tr>\n    <tr>\n      <th>1018</th>\n      <td>1</td>\n      <td>0.449803</td>\n    </tr>\n    <tr>\n      <th>1019</th>\n      <td>0</td>\n      <td>0.414197</td>\n    </tr>\n  </tbody>\n</table>\n<p>1020 rows × 2 columns</p>\n</div>"
     },
     "metadata": {},
     "execution_count": 11
    }
   ],
   "source": [
    "from sklearn.ensemble import IsolationForest\n",
    "\n",
    "seed = 12345\n",
    "ntrees = 100\n",
    "quantile = 0.95\n",
    "\n",
    "x = IsolationForest(random_state=seed, contamination=(1-quantile),\n",
    "                    n_estimators=ntrees, behaviour=\"new\").fit(dftrainnumpy)\n",
    "\n",
    "iso_predictions = x.predict(dftrainnumpy)\n",
    "iso_score = x.score_samples(dftrainnumpy)\n",
    "\n",
    "\n",
    "sk_predictions = pd.DataFrame({\n",
    "    \"predicted_class\": list(map(lambda x: 1*(x == -1), iso_predictions)),\n",
    "    \"predict\": -iso_score\n",
    "})\n",
    "\n",
    "sk_predictions\n"
   ]
  },
  {
   "cell_type": "code",
   "execution_count": 13,
   "metadata": {},
   "outputs": [
    {
     "output_type": "error",
     "ename": "ModuleNotFoundError",
     "evalue": "No module named 'shap'",
     "traceback": [
      "\u001b[1;31m---------------------------------------------------------------------------\u001b[0m",
      "\u001b[1;31mModuleNotFoundError\u001b[0m                       Traceback (most recent call last)",
      "\u001b[1;32m<ipython-input-13-bbc44e1f348d>\u001b[0m in \u001b[0;36m<module>\u001b[1;34m\u001b[0m\n\u001b[1;32m----> 1\u001b[1;33m \u001b[1;32mimport\u001b[0m \u001b[0mshap\u001b[0m\u001b[1;33m\u001b[0m\u001b[1;33m\u001b[0m\u001b[0m\n\u001b[0m\u001b[0;32m      2\u001b[0m \u001b[1;31m#Exaplin  features\u001b[0m\u001b[1;33m\u001b[0m\u001b[1;33m\u001b[0m\u001b[1;33m\u001b[0m\u001b[0m\n\u001b[0;32m      3\u001b[0m \u001b[1;31m#https://stats.stackexchange.com/questions/404017/how-to-get-top-features-that-contribute-to-anomalies-in-isolation-forest/451518#451518\u001b[0m\u001b[1;33m\u001b[0m\u001b[1;33m\u001b[0m\u001b[1;33m\u001b[0m\u001b[0m\n\u001b[0;32m      4\u001b[0m \u001b[1;33m\u001b[0m\u001b[0m\n\u001b[0;32m      5\u001b[0m \u001b[0mX_explain\u001b[0m \u001b[1;33m=\u001b[0m \u001b[0mdftrainnumpy\u001b[0m\u001b[1;33m\u001b[0m\u001b[1;33m\u001b[0m\u001b[0m\n",
      "\u001b[1;31mModuleNotFoundError\u001b[0m: No module named 'shap'"
     ]
    }
   ],
   "source": [
    "import shap\n",
    "#Exaplin  features\n",
    "#https://stats.stackexchange.com/questions/404017/how-to-get-top-features-that-contribute-to-anomalies-in-isolation-forest/451518#451518\n",
    "\n",
    "X_explain = dftrainnumpy\n",
    "shap_values = shap.TreeExplainer(x).shap_values(X_explain)\n",
    "shap.summary_plot(shap_values, X_explain)\n",
    "\n"
   ]
  },
  {
   "cell_type": "code",
   "execution_count": 19,
   "metadata": {},
   "outputs": [
    {
     "output_type": "execute_result",
     "data": {
      "text/plain": [
       "MLPRegressor(hidden_layer_sizes=(1500, 750, 1500), solver='lbfgs', verbose=True)"
      ]
     },
     "metadata": {},
     "execution_count": 19
    }
   ],
   "source": [
    "from sklearn.neural_network import MLPRegressor\n",
    "\n",
    "#https://github.com/h2oai/h2o-tutorials/blob/master/tutorials/isolation-forest/isolation-forest.ipynb to utilize isolation-forest for binary classification\n",
    "\n",
    "auto_encoder = MLPRegressor(hidden_layer_sizes=(300,150,300,),solver='lbfgs', verbose=True) #according to scikit learn documentation lbfgs is better for smaller datasets. To change to adam method once we get larger dataset\n",
    "\n",
    "auto_encoder.fit(dftrainnumpy, dftrainnumpy)"
   ]
  },
  {
   "cell_type": "code",
   "execution_count": 20,
   "metadata": {},
   "outputs": [
    {
     "output_type": "stream",
     "name": "stdout",
     "text": [
      "[[-3.06555796e-02  9.99146629e-01  1.67801134e-03 ...  1.28367998e-02\n   1.23863432e-02 -2.08860839e-02]\n [-3.21703455e-03  1.00936788e+00 -3.06457555e-03 ...  3.48233583e-03\n   3.37069056e-03 -5.16206139e-03]\n [-2.16933945e-03  9.91343312e-01  4.05208981e-03 ... -3.72584982e-03\n  -5.62716861e-03  4.73112140e-03]\n ...\n [-2.25275318e-02 -7.94929504e-03  9.95046210e-01 ...  1.05769084e+00\n   1.20138884e-02  2.18811878e-02]\n [ 6.73366643e-04  1.01149183e+00 -7.52285771e-03 ...  9.12586101e-03\n  -1.57637578e-02  2.09310626e-03]\n [ 1.50743465e-02  1.00911197e+00 -1.36352103e-02 ...  5.42886080e-03\n  -6.06336105e-03  1.00784611e-03]]\n"
     ]
    },
    {
     "output_type": "execute_result",
     "data": {
      "text/plain": [
       "0.857107804358801"
      ]
     },
     "metadata": {},
     "execution_count": 20
    }
   ],
   "source": [
    "predicted_vectors = auto_encoder.predict(dftrainnumpy)\n",
    "\n",
    "print(predicted_vectors)\n",
    "auto_encoder.score(predicted_vectors, dftrainnumpy)"
   ]
  },
  {
   "cell_type": "code",
   "execution_count": 21,
   "metadata": {},
   "outputs": [
    {
     "output_type": "error",
     "ename": "ValueError",
     "evalue": "DataFrame constructor not properly called!",
     "traceback": [
      "\u001b[1;31m---------------------------------------------------------------------------\u001b[0m",
      "\u001b[1;31mValueError\u001b[0m                                Traceback (most recent call last)",
      "\u001b[1;32m<ipython-input-21-50d91d006b73>\u001b[0m in \u001b[0;36m<module>\u001b[1;34m\u001b[0m\n\u001b[1;32m----> 1\u001b[1;33m \u001b[0mpd\u001b[0m\u001b[1;33m.\u001b[0m\u001b[0mDataFrame\u001b[0m\u001b[1;33m(\u001b[0m\u001b[0mauto_encoder\u001b[0m\u001b[1;33m.\u001b[0m\u001b[0mloss\u001b[0m\u001b[1;33m)\u001b[0m\u001b[1;33m.\u001b[0m\u001b[0mplot\u001b[0m\u001b[1;33m(\u001b[0m\u001b[1;33m)\u001b[0m\u001b[1;33m\u001b[0m\u001b[1;33m\u001b[0m\u001b[0m\n\u001b[0m\u001b[0;32m      2\u001b[0m \u001b[1;33m\u001b[0m\u001b[0m\n\u001b[0;32m      3\u001b[0m \u001b[1;31m#max loss reached at 30th iteration\u001b[0m\u001b[1;33m\u001b[0m\u001b[1;33m\u001b[0m\u001b[1;33m\u001b[0m\u001b[0m\n",
      "\u001b[1;32mC:\\ProgramData\\Anaconda3\\lib\\site-packages\\pandas\\core\\frame.py\u001b[0m in \u001b[0;36m__init__\u001b[1;34m(self, data, index, columns, dtype, copy)\u001b[0m\n\u001b[0;32m    507\u001b[0m                 )\n\u001b[0;32m    508\u001b[0m             \u001b[1;32melse\u001b[0m\u001b[1;33m:\u001b[0m\u001b[1;33m\u001b[0m\u001b[1;33m\u001b[0m\u001b[0m\n\u001b[1;32m--> 509\u001b[1;33m                 \u001b[1;32mraise\u001b[0m \u001b[0mValueError\u001b[0m\u001b[1;33m(\u001b[0m\u001b[1;34m\"DataFrame constructor not properly called!\"\u001b[0m\u001b[1;33m)\u001b[0m\u001b[1;33m\u001b[0m\u001b[1;33m\u001b[0m\u001b[0m\n\u001b[0m\u001b[0;32m    510\u001b[0m \u001b[1;33m\u001b[0m\u001b[0m\n\u001b[0;32m    511\u001b[0m         \u001b[0mNDFrame\u001b[0m\u001b[1;33m.\u001b[0m\u001b[0m__init__\u001b[0m\u001b[1;33m(\u001b[0m\u001b[0mself\u001b[0m\u001b[1;33m,\u001b[0m \u001b[0mmgr\u001b[0m\u001b[1;33m,\u001b[0m \u001b[0mfastpath\u001b[0m\u001b[1;33m=\u001b[0m\u001b[1;32mTrue\u001b[0m\u001b[1;33m)\u001b[0m\u001b[1;33m\u001b[0m\u001b[1;33m\u001b[0m\u001b[0m\n",
      "\u001b[1;31mValueError\u001b[0m: DataFrame constructor not properly called!"
     ]
    }
   ],
   "source": [
    "pd.DataFrame(auto_encoder.loss).plot()\n",
    "\n",
    "#max loss reached at 30th iteration"
   ]
  },
  {
   "cell_type": "code",
   "execution_count": 22,
   "metadata": {},
   "outputs": [
    {
     "output_type": "stream",
     "name": "stdout",
     "text": [
      "Record:  index                              171\nCOMP_CODE                         1003\nAC_DOC_NR                   1900026691\nPSTNG_DATE         2020-04-27 00:00:00\nCREATEDON          2020-04-27 00:00:00\n                          ...         \nsterigenics                          0\nsterigenics llc                      0\ntechnologies                         0\nvwr                                  0\nvwr scientific                       0\nName: 84, Length: 223, dtype: object\nCosine Sim Val : 0.9651745620794653\n---------------------------------\nRecord:  index                              294\nCOMP_CODE                         1003\nAC_DOC_NR                   5000014342\nPSTNG_DATE         2020-01-23 00:00:00\nCREATEDON          2020-01-23 00:00:00\n                          ...         \nsterigenics                          0\nsterigenics llc                      0\ntechnologies                         0\nvwr                                  0\nvwr scientific                       0\nName: 141, Length: 223, dtype: object\nCosine Sim Val : 0.9661041518104537\n---------------------------------\nRecord:  index                              267\nCOMP_CODE                         1003\nAC_DOC_NR                   5100152439\nPSTNG_DATE         2019-08-02 00:00:00\nCREATEDON          2019-08-02 00:00:00\n                          ...         \nsterigenics                          0\nsterigenics llc                      0\ntechnologies                         0\nvwr                                  0\nvwr scientific                       0\nName: 127, Length: 223, dtype: object\nCosine Sim Val : 0.9674344504579424\n---------------------------------\nRecord:  index                             1975\nCOMP_CODE                         1003\nAC_DOC_NR                   5000063518\nPSTNG_DATE         2019-04-03 00:00:00\nCREATEDON          2019-04-03 00:00:00\n                          ...         \nsterigenics                          0\nsterigenics llc                      0\ntechnologies                         0\nvwr                                  0\nvwr scientific                       0\nName: 1010, Length: 223, dtype: object\nCosine Sim Val : 0.9682760947544372\n---------------------------------\nRecord:  index                             1547\nCOMP_CODE                         1003\nAC_DOC_NR                   1900021176\nPSTNG_DATE         2020-04-01 00:00:00\nCREATEDON          2020-04-01 00:00:00\n                          ...         \nsterigenics                          0\nsterigenics llc                      0\ntechnologies                         0\nvwr                                  0\nvwr scientific                       0\nName: 796, Length: 223, dtype: object\nCosine Sim Val : 0.969003091168128\n---------------------------------\n"
     ]
    }
   ],
   "source": [
    "from scipy.spatial.distance import cosine\n",
    "\n",
    "def key_consine_similarity(tupple):\n",
    "    return tupple[1]\n",
    "\n",
    "def get_computed_similarities(vectors, predicted_vectors, reverse=False):\n",
    "    data_size = len(dftrain) #was df train\n",
    "    cosine_similarities = []\n",
    "    for i in range(data_size):\n",
    "        cosine_sim_val = (1 - cosine(vectors[i], predicted_vectors[i]))\n",
    "        cosine_similarities.append((i, cosine_sim_val))\n",
    "\n",
    "    return sorted(cosine_similarities, key=key_consine_similarity, reverse=reverse)\n",
    "\n",
    "def display_top_n(sorted_cosine_similarities, n=5):\n",
    "    for i in range(n):\n",
    "        index, consine_sim_val = sorted_cosine_similarities[i]\n",
    "        print('Record: ', modelVals.df.iloc[index])   #was dftrain\n",
    "        print('Cosine Sim Val :', consine_sim_val)\n",
    "        print('---------------------------------')\n",
    "\n",
    "sorted_cosine_similarities = get_computed_similarities(vectors=dftrainnumpy, predicted_vectors=predicted_vectors)\n",
    "\n",
    "display_top_n(sorted_cosine_similarities=sorted_cosine_similarities)"
   ]
  },
  {
   "cell_type": "code",
   "execution_count": 7,
   "metadata": {},
   "outputs": [
    {
     "output_type": "execute_result",
     "data": {
      "text/plain": [
       "     EntityName_Acura  EntityName_Alfa Romeo  EntityName_Aston Martin  \\\n",
       "0                 1.0                    0.0                      0.0   \n",
       "1                 1.0                    0.0                      0.0   \n",
       "2                 0.0                    0.0                      0.0   \n",
       "3                 0.0                    0.0                      0.0   \n",
       "4                 0.0                    0.0                      0.0   \n",
       "..                ...                    ...                      ...   \n",
       "995               0.0                    0.0                      0.0   \n",
       "996               0.0                    0.0                      0.0   \n",
       "997               0.0                    0.0                      0.0   \n",
       "998               0.0                    0.0                      0.0   \n",
       "999               0.0                    0.0                      0.0   \n",
       "\n",
       "     EntityName_Audi  EntityName_Austin  EntityName_BMW  EntityName_Bentley  \\\n",
       "0                0.0                0.0             0.0                 0.0   \n",
       "1                0.0                0.0             0.0                 0.0   \n",
       "2                0.0                0.0             0.0                 0.0   \n",
       "3                0.0                0.0             0.0                 0.0   \n",
       "4                0.0                0.0             0.0                 0.0   \n",
       "..               ...                ...             ...                 ...   \n",
       "995              0.0                0.0             0.0                 0.0   \n",
       "996              0.0                0.0             0.0                 0.0   \n",
       "997              0.0                0.0             0.0                 0.0   \n",
       "998              1.0                0.0             0.0                 0.0   \n",
       "999              0.0                0.0             0.0                 0.0   \n",
       "\n",
       "     EntityName_Buick  EntityName_Cadillac  EntityName_Chevrolet  ...  \\\n",
       "0                 0.0                  0.0                   0.0  ...   \n",
       "1                 0.0                  0.0                   0.0  ...   \n",
       "2                 0.0                  0.0                   0.0  ...   \n",
       "3                 0.0                  0.0                   0.0  ...   \n",
       "4                 1.0                  0.0                   0.0  ...   \n",
       "..                ...                  ...                   ...  ...   \n",
       "995               0.0                  0.0                   0.0  ...   \n",
       "996               0.0                  0.0                   0.0  ...   \n",
       "997               0.0                  0.0                   0.0  ...   \n",
       "998               0.0                  0.0                   0.0  ...   \n",
       "999               0.0                  0.0                   0.0  ...   \n",
       "\n",
       "     EntityName_Saab  EntityName_Saturn  EntityName_Scion  EntityName_Subaru  \\\n",
       "0                0.0                0.0               0.0                0.0   \n",
       "1                0.0                0.0               0.0                0.0   \n",
       "2                0.0                0.0               0.0                0.0   \n",
       "3                0.0                0.0               0.0                0.0   \n",
       "4                0.0                0.0               0.0                0.0   \n",
       "..               ...                ...               ...                ...   \n",
       "995              0.0                0.0               0.0                0.0   \n",
       "996              0.0                0.0               0.0                0.0   \n",
       "997              0.0                0.0               0.0                0.0   \n",
       "998              0.0                0.0               0.0                0.0   \n",
       "999              0.0                0.0               0.0                0.0   \n",
       "\n",
       "     EntityName_Suzuki  EntityName_Tesla  EntityName_Toyota  \\\n",
       "0                  0.0               0.0                0.0   \n",
       "1                  0.0               0.0                0.0   \n",
       "2                  0.0               0.0                0.0   \n",
       "3                  0.0               0.0                0.0   \n",
       "4                  0.0               0.0                0.0   \n",
       "..                 ...               ...                ...   \n",
       "995                0.0               0.0                0.0   \n",
       "996                0.0               0.0                1.0   \n",
       "997                0.0               0.0                0.0   \n",
       "998                0.0               0.0                0.0   \n",
       "999                0.0               0.0                0.0   \n",
       "\n",
       "     EntityName_Volkswagen  EntityName_Volvo  EntityName_labeled  \n",
       "0                      0.0               0.0                 0.0  \n",
       "1                      0.0               0.0                 0.0  \n",
       "2                      0.0               0.0                39.0  \n",
       "3                      0.0               0.0                18.0  \n",
       "4                      0.0               0.0                 7.0  \n",
       "..                     ...               ...                 ...  \n",
       "995                    0.0               0.0                37.0  \n",
       "996                    0.0               0.0                55.0  \n",
       "997                    0.0               0.0                17.0  \n",
       "998                    0.0               0.0                 3.0  \n",
       "999                    0.0               0.0                46.0  \n",
       "\n",
       "[1000 rows x 59 columns]"
      ],
      "text/html": "<div>\n<style scoped>\n    .dataframe tbody tr th:only-of-type {\n        vertical-align: middle;\n    }\n\n    .dataframe tbody tr th {\n        vertical-align: top;\n    }\n\n    .dataframe thead th {\n        text-align: right;\n    }\n</style>\n<table border=\"1\" class=\"dataframe\">\n  <thead>\n    <tr style=\"text-align: right;\">\n      <th></th>\n      <th>EntityName_Acura</th>\n      <th>EntityName_Alfa Romeo</th>\n      <th>EntityName_Aston Martin</th>\n      <th>EntityName_Audi</th>\n      <th>EntityName_Austin</th>\n      <th>EntityName_BMW</th>\n      <th>EntityName_Bentley</th>\n      <th>EntityName_Buick</th>\n      <th>EntityName_Cadillac</th>\n      <th>EntityName_Chevrolet</th>\n      <th>...</th>\n      <th>EntityName_Saab</th>\n      <th>EntityName_Saturn</th>\n      <th>EntityName_Scion</th>\n      <th>EntityName_Subaru</th>\n      <th>EntityName_Suzuki</th>\n      <th>EntityName_Tesla</th>\n      <th>EntityName_Toyota</th>\n      <th>EntityName_Volkswagen</th>\n      <th>EntityName_Volvo</th>\n      <th>EntityName_labeled</th>\n    </tr>\n  </thead>\n  <tbody>\n    <tr>\n      <th>0</th>\n      <td>1.0</td>\n      <td>0.0</td>\n      <td>0.0</td>\n      <td>0.0</td>\n      <td>0.0</td>\n      <td>0.0</td>\n      <td>0.0</td>\n      <td>0.0</td>\n      <td>0.0</td>\n      <td>0.0</td>\n      <td>...</td>\n      <td>0.0</td>\n      <td>0.0</td>\n      <td>0.0</td>\n      <td>0.0</td>\n      <td>0.0</td>\n      <td>0.0</td>\n      <td>0.0</td>\n      <td>0.0</td>\n      <td>0.0</td>\n      <td>0.0</td>\n    </tr>\n    <tr>\n      <th>1</th>\n      <td>1.0</td>\n      <td>0.0</td>\n      <td>0.0</td>\n      <td>0.0</td>\n      <td>0.0</td>\n      <td>0.0</td>\n      <td>0.0</td>\n      <td>0.0</td>\n      <td>0.0</td>\n      <td>0.0</td>\n      <td>...</td>\n      <td>0.0</td>\n      <td>0.0</td>\n      <td>0.0</td>\n      <td>0.0</td>\n      <td>0.0</td>\n      <td>0.0</td>\n      <td>0.0</td>\n      <td>0.0</td>\n      <td>0.0</td>\n      <td>0.0</td>\n    </tr>\n    <tr>\n      <th>2</th>\n      <td>0.0</td>\n      <td>0.0</td>\n      <td>0.0</td>\n      <td>0.0</td>\n      <td>0.0</td>\n      <td>0.0</td>\n      <td>0.0</td>\n      <td>0.0</td>\n      <td>0.0</td>\n      <td>0.0</td>\n      <td>...</td>\n      <td>0.0</td>\n      <td>0.0</td>\n      <td>0.0</td>\n      <td>0.0</td>\n      <td>0.0</td>\n      <td>0.0</td>\n      <td>0.0</td>\n      <td>0.0</td>\n      <td>0.0</td>\n      <td>39.0</td>\n    </tr>\n    <tr>\n      <th>3</th>\n      <td>0.0</td>\n      <td>0.0</td>\n      <td>0.0</td>\n      <td>0.0</td>\n      <td>0.0</td>\n      <td>0.0</td>\n      <td>0.0</td>\n      <td>0.0</td>\n      <td>0.0</td>\n      <td>0.0</td>\n      <td>...</td>\n      <td>0.0</td>\n      <td>0.0</td>\n      <td>0.0</td>\n      <td>0.0</td>\n      <td>0.0</td>\n      <td>0.0</td>\n      <td>0.0</td>\n      <td>0.0</td>\n      <td>0.0</td>\n      <td>18.0</td>\n    </tr>\n    <tr>\n      <th>4</th>\n      <td>0.0</td>\n      <td>0.0</td>\n      <td>0.0</td>\n      <td>0.0</td>\n      <td>0.0</td>\n      <td>0.0</td>\n      <td>0.0</td>\n      <td>1.0</td>\n      <td>0.0</td>\n      <td>0.0</td>\n      <td>...</td>\n      <td>0.0</td>\n      <td>0.0</td>\n      <td>0.0</td>\n      <td>0.0</td>\n      <td>0.0</td>\n      <td>0.0</td>\n      <td>0.0</td>\n      <td>0.0</td>\n      <td>0.0</td>\n      <td>7.0</td>\n    </tr>\n    <tr>\n      <th>...</th>\n      <td>...</td>\n      <td>...</td>\n      <td>...</td>\n      <td>...</td>\n      <td>...</td>\n      <td>...</td>\n      <td>...</td>\n      <td>...</td>\n      <td>...</td>\n      <td>...</td>\n      <td>...</td>\n      <td>...</td>\n      <td>...</td>\n      <td>...</td>\n      <td>...</td>\n      <td>...</td>\n      <td>...</td>\n      <td>...</td>\n      <td>...</td>\n      <td>...</td>\n      <td>...</td>\n    </tr>\n    <tr>\n      <th>995</th>\n      <td>0.0</td>\n      <td>0.0</td>\n      <td>0.0</td>\n      <td>0.0</td>\n      <td>0.0</td>\n      <td>0.0</td>\n      <td>0.0</td>\n      <td>0.0</td>\n      <td>0.0</td>\n      <td>0.0</td>\n      <td>...</td>\n      <td>0.0</td>\n      <td>0.0</td>\n      <td>0.0</td>\n      <td>0.0</td>\n      <td>0.0</td>\n      <td>0.0</td>\n      <td>0.0</td>\n      <td>0.0</td>\n      <td>0.0</td>\n      <td>37.0</td>\n    </tr>\n    <tr>\n      <th>996</th>\n      <td>0.0</td>\n      <td>0.0</td>\n      <td>0.0</td>\n      <td>0.0</td>\n      <td>0.0</td>\n      <td>0.0</td>\n      <td>0.0</td>\n      <td>0.0</td>\n      <td>0.0</td>\n      <td>0.0</td>\n      <td>...</td>\n      <td>0.0</td>\n      <td>0.0</td>\n      <td>0.0</td>\n      <td>0.0</td>\n      <td>0.0</td>\n      <td>0.0</td>\n      <td>1.0</td>\n      <td>0.0</td>\n      <td>0.0</td>\n      <td>55.0</td>\n    </tr>\n    <tr>\n      <th>997</th>\n      <td>0.0</td>\n      <td>0.0</td>\n      <td>0.0</td>\n      <td>0.0</td>\n      <td>0.0</td>\n      <td>0.0</td>\n      <td>0.0</td>\n      <td>0.0</td>\n      <td>0.0</td>\n      <td>0.0</td>\n      <td>...</td>\n      <td>0.0</td>\n      <td>0.0</td>\n      <td>0.0</td>\n      <td>0.0</td>\n      <td>0.0</td>\n      <td>0.0</td>\n      <td>0.0</td>\n      <td>0.0</td>\n      <td>0.0</td>\n      <td>17.0</td>\n    </tr>\n    <tr>\n      <th>998</th>\n      <td>0.0</td>\n      <td>0.0</td>\n      <td>0.0</td>\n      <td>1.0</td>\n      <td>0.0</td>\n      <td>0.0</td>\n      <td>0.0</td>\n      <td>0.0</td>\n      <td>0.0</td>\n      <td>0.0</td>\n      <td>...</td>\n      <td>0.0</td>\n      <td>0.0</td>\n      <td>0.0</td>\n      <td>0.0</td>\n      <td>0.0</td>\n      <td>0.0</td>\n      <td>0.0</td>\n      <td>0.0</td>\n      <td>0.0</td>\n      <td>3.0</td>\n    </tr>\n    <tr>\n      <th>999</th>\n      <td>0.0</td>\n      <td>0.0</td>\n      <td>0.0</td>\n      <td>0.0</td>\n      <td>0.0</td>\n      <td>0.0</td>\n      <td>0.0</td>\n      <td>0.0</td>\n      <td>0.0</td>\n      <td>0.0</td>\n      <td>...</td>\n      <td>0.0</td>\n      <td>0.0</td>\n      <td>0.0</td>\n      <td>0.0</td>\n      <td>0.0</td>\n      <td>0.0</td>\n      <td>0.0</td>\n      <td>0.0</td>\n      <td>0.0</td>\n      <td>46.0</td>\n    </tr>\n  </tbody>\n</table>\n<p>1000 rows × 59 columns</p>\n</div>"
     },
     "metadata": {},
     "execution_count": 7
    }
   ],
   "source": [
    "modelVals.reverse_transform()\n",
    "\n",
    "modelVals.dfscaled"
   ]
  },
  {
   "cell_type": "code",
   "execution_count": null,
   "metadata": {},
   "outputs": [],
   "source": [
    "#Select columns, replace \"?\" with numpy nan type and initialize FeatureEngine object\n",
    "\n",
    "#Note: Any vendor number that doesn't start with an integer is interco. We can filter on that.\n",
    "#Note: The AC_DOC_NR is the accounting doc (i.e. the payment invoice doc)\n",
    "#SQL query paramas:\n",
    "#Account tyep is prefiltered as S, and S = G/L account type.\n",
    "#Posting data 1/1/2019 - 10/31/2020\n",
    "#Company code = 1000 or 1003, which is all US based companies\n",
    "#Division = ADD\n",
    "\n",
    "#Note: Timing between doc date and clearing date (i.e. # of days to clear). But a clearing binary flag isn't useful. CLEAR_DATE is the date it was cleared/paid. Note: Not all records are going to have a days\n",
    "\n",
    "#Note: Should we aggregate/groupby the DOC ln's together or keep them separate\n",
    "\n",
    "#Post keys = 31, 32, 34, 21, 22, 24, 29 and 39 are the relavent post-keys, so we can likely filter out the rest.\n",
    "#ACCNT_GRPV = \n",
    "\n",
    "#Vendors can have different payment terms accross different entities. So the vendor number can be the same, but have different terms across different entities.\n",
    "\n",
    "#AC_DOC_NR-COMP_CODE probablly isn't needed, invoice doc nr should be unique. But we do want AC_DOC_NR-Fiscalyear because fiscal years rotate doc_nrs.\n",
    "\n",
    "#MATL_GROUP helps to identify the \"Type\" of material that we're purchasing at a grouped level. \n",
    "\n",
    "#DOC_DATE is adjustable by the user, #posting is the accounting period, #Created on is system generated as it's just litterally when the doc was started. Doc_date and posting date can be a relavent relationship (i.e. maybe days difference between doc and posting?).\n",
    "\n",
    "#You can have the same vendor with different attributes.\n",
    "#GL_Account mapping to HCP relavent transacations. Creating a feature possiblly off of that? But we don't want to run into a situation where we're not capturing trnasacations outside of those G/Ls. \n",
    "#To create a feature based off of whether or not a vendor has had a historical HCP transacation.  \n",
    "\n",
    "#Michael to possiblly look into external Sunshine Act reporting databases?\n",
    "\n",
    "#To do a merge between the sample Tera data and the full vendor master data using [vendor number - company code]. KEy fields in the vendor master = \"Name (i.e. does it contai ngovernment, hospital, etc)\", vnedor name, vnedor with duplicate address or attributes that should be unique, ID_XCPD is a one time indicate, BIC_ZTERMPAY (different from what is on the invoice) -- maybe add a flag checking if they are different, \n",
    "\n",
    "#To possiblly add a number of occurrences a vendor has been used as a feature?\n",
    "\n",
    "#MCC code one-hot encodde\n",
    "\n",
    "#REF_KEY1 fill \"?\" with nan\n",
    "#Do we have a product # vs product description?\n",
    "#Classify BIC_ZUSERNAM as manual or not depending on if posted by AUTOSYS\n",
    "#Tokenize appended text fields of NAME, POSTXT, ZBTXT\n",
    "#Feature ideas, calculate diff of posting and created?\n",
    "#n_samples > n_features ** 2 (i.e. rows > columns.count squared)\n",
    "\n",
    "#If we don't have labeled values then maybe use PYOD for unsupervised detection? https://pyod.readthedocs.io/en/latest/\n"
   ]
  }
 ]
}